{
 "cells": [
  {
   "cell_type": "markdown",
   "metadata": {},
   "source": [
    "<h3 style=\"text-align: center;\"> <strong> UNIVERSIDAD TECNOLÓGICA DE PANAMÁ </strong></h3>\n",
    "<h3 style=\"text-align: center;\">FACULTAD DE INGENIERÍA DE SISTEMAS COMPUTACIONALES</h3>\n",
    "<h3 style=\"text-align: center;\">MAESTRÍA EN ANALÍTICA DE DATOS</h3>\n",
    "    \n",
    "<h1 style=\"text-align: center;\"><strong>-----LABORATORIO N°2:  APRENDIZAJE SUPERVISADO 1-----</strong></h1>\n",
    "<h3 style=\"text-align: center;\">MACHINE LEARNING Y ANALITICA PRESCRIPTIVA - S108</h3>\n",
    "\n",
    "\n",
    "\n",
    "\n",
    "|  **FACILITADOR** | Dr. José Carlos Rangel Ortiz          |\n",
    "|-----------------|---------------------------------------|\n",
    "| **MÓDULO 2**    | Clasificadores  |\n",
    "|  **UNIDAD 1**    | Algoritmos de Aprendizaje Supervisado |\n",
    "    \n",
    "\n",
    "| **NOMBRE DEL ESTUDIANTE:** | STEPHANIE_DE_LEON__8-856-600____________________________________________________________|\n",
    "|----------------------------|-----------------------------------------------------------------------------------------|\n",
    "    \n"
   ]
  },
  {
   "cell_type": "markdown",
   "metadata": {},
   "source": [
    "# Introducción \n",
    "\n",
    "\n",
    "El Aprendizaje Automático(ML) y la Ciencia de Datos se entrelazan como dos piezas de un rompecabezas, formando una poderosa herramienta para la extracción de conocimiento a partir de datos. El ML enriquece el campo de la Ciencia de Datos, impulsando el análisis y la toma de decisiones informadas.\n",
    "\n",
    "El ML dota a los científicos de datos de algoritmos inteligentes que pueden aprender de grandes conjuntos de datos sin necesidad de una programación explícita. Estos algoritmos son capaces de identificar patrones complejos, realizar predicciones y tomar decisiones autónomas, lo que permite a los científicos de datos:\n",
    "\n",
    "- Automatizar tareas tediosas\n",
    "- Descubrir patrones ocultos\n",
    "- Realizar predicciones precisas\n",
    "- Realizar predicciones precisas\n",
    "\n",
    "**Casos de uso del Aprendizaje Automático en la Ciencia de Datos**\n",
    "\n",
    "- Análisis de fraude\n",
    "- Recomendación de productos\n",
    "- Detección de anomalías\n",
    "- Segmentación de clientes\n",
    "- Reconocimiento de imágenes\n",
    "\n",
    "\n",
    "En este laboratorio se daran los primeros pasos con algoritmos de ML, en este caso Aprendizaje Supervisado el cual se enfoca en el entrenamiento de modelos utilizando una variable como guía del entrenamiento. Nos enfocaremos en primer lugar con los algoritmos de Regresión Lineal, Regresión Logística y Árboles de Decisión. Se presentan para cada uno ejemplos desarrollados donde se expone su uso y forma de análisis de los mismos. \n",
    "\n",
    "La Ciencia de Datos proporciona el marco y la metodología para recopilar, limpiar, preparar y analizar datos, mientras que el ML ofrece las herramientas y algoritmos para aprender de estos datos y extraer conocimiento. Juntos, forman un dúo dinámico que permite a las organizaciones transformar sus datos en activos valiosos que pueden impulsar la innovación, la eficiencia y la toma de decisiones estratégicas.\n",
    "\n"
   ]
  },
  {
   "cell_type": "markdown",
   "metadata": {},
   "source": [
    "<div class=\"alert alert-success\", role=\"alert\">\n",
    "    <h1 style=\"font-size: 1.5em;\">Parte 1 </h1>\n",
    "    <h2 style=\"font-size: 1.5em; \"><strong>Regresión Lineal Simple</strong></h2>\n",
    "</div>\n",
    "\n",
    "\n",
    "La regresión lineal simple es un tipo de algoritmo de aprendizaje supervisado que permite generar un modelo de predicción para un *target* o varible objetivo discreta. \n",
    "El enfoque simple de este algoritmo se recibe una conjunto de datos de entrada con una sola columa o variable y permite realizar la predicción de una variable. Este algoritmo al igual que todos lo algoritmos supervisados requiere de un conjunto de datos con el valor real dentro del conjunto de entrenamiento. \n",
    "En este caso se utilizara el *LinearRegression* de la librería de SciKitLearn para predecir valores numéricos. \n",
    "El enfoque de Regresión Lineal Simple genera una recta que representa los valores del conjunto de entrenamiento.\n",
    "La ecuación que la representa sería:\n",
    "\n",
    "$y=mX + b$\n",
    "\n",
    "Siendo $m$ la pendiente de la recta que en este caso consiste en un solo valor al utilizar solo una variable de entrada. Cuando se utilicen más valores, $m$ se interpreta como un arreglo o lista de coeficientes que multiplican a cada variable utilizada en el entrenamiento.\n",
    "El algoritmo de Regresión Lineal de SciKitLearn calcula estos parámetros que representan los datos de entrenamiento. \n"
   ]
  },
  {
   "cell_type": "markdown",
   "metadata": {},
   "source": [
    "## Importar Librerias"
   ]
  },
  {
   "cell_type": "code",
   "execution_count": 345,
   "metadata": {
    "execution": {
     "iopub.execute_input": "2025-04-09T22:53:13.512805Z",
     "iopub.status.busy": "2025-04-09T22:53:13.512805Z",
     "iopub.status.idle": "2025-04-09T22:53:20.921987Z",
     "shell.execute_reply": "2025-04-09T22:53:20.921480Z",
     "shell.execute_reply.started": "2025-04-09T22:53:13.512805Z"
    },
    "tags": []
   },
   "outputs": [],
   "source": [
    "import pandas as pd\n",
    "from sklearn.model_selection import train_test_split\n",
    "from sklearn.linear_model import LinearRegression\n",
    "import seaborn as sns\n",
    "import numpy as np\n",
    "import matplotlib.pyplot as plt \n",
    "import matplotlib.pyplot as plt\n",
    "import pandas as pd\n",
    "from sklearn.preprocessing import StandardScaler"
   ]
  },
  {
   "cell_type": "markdown",
   "metadata": {},
   "source": [
    "## Cargar el dataset del promedio de las altas temperaturas\n",
    "En este caso se plantea un modelo que permita el calculo de la temperatura **(variable *y*)**, recibiendo como entrada el año **(variable *x*)**, de tal manera que se obtiene una ecuación con la siguiente estructura:\n",
    "\n",
    "$temperatura = m(anio) + intercepto$"
   ]
  },
  {
   "cell_type": "code",
   "execution_count": 346,
   "metadata": {
    "tags": []
   },
   "outputs": [
    {
     "data": {
      "text/html": [
       "<div>\n",
       "<style scoped>\n",
       "    .dataframe tbody tr th:only-of-type {\n",
       "        vertical-align: middle;\n",
       "    }\n",
       "\n",
       "    .dataframe tbody tr th {\n",
       "        vertical-align: top;\n",
       "    }\n",
       "\n",
       "    .dataframe thead th {\n",
       "        text-align: right;\n",
       "    }\n",
       "</style>\n",
       "<table border=\"1\" class=\"dataframe\">\n",
       "  <thead>\n",
       "    <tr style=\"text-align: right;\">\n",
       "      <th></th>\n",
       "      <th>Date</th>\n",
       "      <th>Temperature</th>\n",
       "      <th>Anomaly</th>\n",
       "    </tr>\n",
       "  </thead>\n",
       "  <tbody>\n",
       "    <tr>\n",
       "      <th>0</th>\n",
       "      <td>1895</td>\n",
       "      <td>34.2</td>\n",
       "      <td>-3.2</td>\n",
       "    </tr>\n",
       "    <tr>\n",
       "      <th>1</th>\n",
       "      <td>1896</td>\n",
       "      <td>34.7</td>\n",
       "      <td>-2.7</td>\n",
       "    </tr>\n",
       "    <tr>\n",
       "      <th>2</th>\n",
       "      <td>1897</td>\n",
       "      <td>35.5</td>\n",
       "      <td>-1.9</td>\n",
       "    </tr>\n",
       "  </tbody>\n",
       "</table>\n",
       "</div>"
      ],
      "text/plain": [
       "   Date  Temperature  Anomaly\n",
       "0  1895         34.2     -3.2\n",
       "1  1896         34.7     -2.7\n",
       "2  1897         35.5     -1.9"
      ]
     },
     "execution_count": 346,
     "metadata": {},
     "output_type": "execute_result"
    }
   ],
   "source": [
    "nyc = pd.read_csv('ave_hi_nyc_jan_1895-2018.csv')\n",
    "nyc.columns = ['Date', 'Temperature', 'Anomaly']\n",
    "nyc.Date = nyc.Date.floordiv(100)\n",
    "nyc.head(3)"
   ]
  },
  {
   "cell_type": "markdown",
   "metadata": {},
   "source": [
    "## División en Train/Test \n",
    "Cuando se realiza un entrenamiento de un modelo de ML es recomendable dividir el dataset en dos secuencias, una para entrenar y otra para evaluar el modelo entrenado. La función *train_test_split* nos permite realizar esta divisióon de nuestros conjuntos de datos. \n",
    "En este ejemplo como en la mayoria de los códigos de entrenamiento, se utiliza un conjunto de valores para entrenar el modelo, se suele llamar **X** al conjunto de valores o la variable que se usa para entrenar el modelo y se suele llamar **Y** a la columna o variable objetivo de nuestro dataset y la cual el modelo debe aprender a predecir. En este caso al no especificar porcentaje se utiliza por defecto el 25% para test y el 75% para train.\n",
    "\n",
    "Esta función por lo tanto recibe basicamente 2 elementos, el dataset con la variable **X** y el dataset con la varible **Y**. La funcion devuelve 4 listas a saber:\n",
    "- **X_train** : son las instancias seleccionadas de la variable X que se usaran para **entrenar** el modelo.\n",
    "- **X_test**: son las instancias seleccionadas de la variable X que se usaran para **evaluar** el modelo.\n",
    "- **y_train**: son las categorias o valores reales de las instancias contenidas en la lista **X_train**.\n",
    "- **y_test**: son las categorias o valores reales de las instancias contenidas en la lista **X_test**.\n",
    "\n",
    "El entrenamiento en este caso utilizará los valores con el sufijo \\_train para entrenar y los que tienen el sufijo \\_test para validar el modelo entrenado."
   ]
  },
  {
   "cell_type": "code",
   "execution_count": 347,
   "metadata": {
    "tags": []
   },
   "outputs": [],
   "source": [
    "X_train, X_test, y_train, y_test = train_test_split(nyc.Date.values.reshape(-1, 1), nyc.Temperature.values, random_state=11)\n",
    "\n",
    "# En este caso el .values retorna una lista de flotantes  [123,3,...,5] --> [[123], [3], ... , [5]]\n",
    "# y el .reshape(-1,1) especifica que esa lista se transforme a un arreglo de una columna\n",
    "# debido a que es el formato que maneja SKLearn"
   ]
  },
  {
   "cell_type": "code",
   "execution_count": 348,
   "metadata": {},
   "outputs": [
    {
     "name": "stdout",
     "output_type": "stream",
     "text": [
      "El conjunto original tenia 124 instancias, el conjunto de train tiene 93 y el conjunto de test 31 instancias.\n"
     ]
    }
   ],
   "source": [
    "print(f'El conjunto original tenia {len(nyc)} instancias, el conjunto de train tiene {len(X_train)} y el conjunto de test {len(X_test)} instancias.')"
   ]
  },
  {
   "cell_type": "markdown",
   "metadata": {},
   "source": [
    "## Escalamiento de los Datos\n",
    "Para facilitar la convergencia se realiza un proceso de escalado a los datos de entrenamiento y test, esto asegura que los valores estarán en un mismo rango. En este ejemplo se aplica escalado para mostrar el procedimiento pero se debe considerar que la regresión lineal se encuentra dentro de los algoritmos que no suele necesitar el uso de escalmientos numéricos."
   ]
  },
  {
   "cell_type": "code",
   "execution_count": 349,
   "metadata": {},
   "outputs": [],
   "source": [
    "# se utiliza para escalar los valores en un mismo rango\n",
    "sc_X = StandardScaler()\n",
    "X_trainSC=sc_X.fit_transform(X_train)\n",
    "X_testSC=sc_X.transform(X_test)"
   ]
  },
  {
   "cell_type": "code",
   "execution_count": 350,
   "metadata": {},
   "outputs": [
    {
     "data": {
      "text/plain": [
       "array([[1968],\n",
       "       [1897],\n",
       "       [1972],\n",
       "       [1904],\n",
       "       [1911],\n",
       "       [2011],\n",
       "       [1895],\n",
       "       [1931],\n",
       "       [1956],\n",
       "       [1951],\n",
       "       [1924],\n",
       "       [1992],\n",
       "       [1934],\n",
       "       [1999],\n",
       "       [1901],\n",
       "       [1937],\n",
       "       [1985],\n",
       "       [1970],\n",
       "       [1983],\n",
       "       [2008],\n",
       "       [1978],\n",
       "       [1925],\n",
       "       [1930],\n",
       "       [1960],\n",
       "       [1910],\n",
       "       [1957],\n",
       "       [1953],\n",
       "       [1981],\n",
       "       [1917],\n",
       "       [1916],\n",
       "       [1921]], dtype=int64)"
      ]
     },
     "execution_count": 350,
     "metadata": {},
     "output_type": "execute_result"
    }
   ],
   "source": [
    "X_test"
   ]
  },
  {
   "cell_type": "markdown",
   "metadata": {},
   "source": [
    "## Entrenamiento del Modelo\n",
    "Para el proceso de entrenar el modelo primero se crea una instancia del modelo a utilizar y posteriormente se usa el metodo **.fit()** para que se envie el conjunto de entrenamiento y se realice el entrenamiento del modelo. Cada algoritmo tiene un conjunto de parámetros que puede recibir y que permiten ajustar o mejorar el resultado."
   ]
  },
  {
   "cell_type": "code",
   "execution_count": 351,
   "metadata": {
    "tags": []
   },
   "outputs": [
    {
     "data": {
      "text/html": [
       "<style>#sk-container-id-21 {color: black;background-color: white;}#sk-container-id-21 pre{padding: 0;}#sk-container-id-21 div.sk-toggleable {background-color: white;}#sk-container-id-21 label.sk-toggleable__label {cursor: pointer;display: block;width: 100%;margin-bottom: 0;padding: 0.3em;box-sizing: border-box;text-align: center;}#sk-container-id-21 label.sk-toggleable__label-arrow:before {content: \"▸\";float: left;margin-right: 0.25em;color: #696969;}#sk-container-id-21 label.sk-toggleable__label-arrow:hover:before {color: black;}#sk-container-id-21 div.sk-estimator:hover label.sk-toggleable__label-arrow:before {color: black;}#sk-container-id-21 div.sk-toggleable__content {max-height: 0;max-width: 0;overflow: hidden;text-align: left;background-color: #f0f8ff;}#sk-container-id-21 div.sk-toggleable__content pre {margin: 0.2em;color: black;border-radius: 0.25em;background-color: #f0f8ff;}#sk-container-id-21 input.sk-toggleable__control:checked~div.sk-toggleable__content {max-height: 200px;max-width: 100%;overflow: auto;}#sk-container-id-21 input.sk-toggleable__control:checked~label.sk-toggleable__label-arrow:before {content: \"▾\";}#sk-container-id-21 div.sk-estimator input.sk-toggleable__control:checked~label.sk-toggleable__label {background-color: #d4ebff;}#sk-container-id-21 div.sk-label input.sk-toggleable__control:checked~label.sk-toggleable__label {background-color: #d4ebff;}#sk-container-id-21 input.sk-hidden--visually {border: 0;clip: rect(1px 1px 1px 1px);clip: rect(1px, 1px, 1px, 1px);height: 1px;margin: -1px;overflow: hidden;padding: 0;position: absolute;width: 1px;}#sk-container-id-21 div.sk-estimator {font-family: monospace;background-color: #f0f8ff;border: 1px dotted black;border-radius: 0.25em;box-sizing: border-box;margin-bottom: 0.5em;}#sk-container-id-21 div.sk-estimator:hover {background-color: #d4ebff;}#sk-container-id-21 div.sk-parallel-item::after {content: \"\";width: 100%;border-bottom: 1px solid gray;flex-grow: 1;}#sk-container-id-21 div.sk-label:hover label.sk-toggleable__label {background-color: #d4ebff;}#sk-container-id-21 div.sk-serial::before {content: \"\";position: absolute;border-left: 1px solid gray;box-sizing: border-box;top: 0;bottom: 0;left: 50%;z-index: 0;}#sk-container-id-21 div.sk-serial {display: flex;flex-direction: column;align-items: center;background-color: white;padding-right: 0.2em;padding-left: 0.2em;position: relative;}#sk-container-id-21 div.sk-item {position: relative;z-index: 1;}#sk-container-id-21 div.sk-parallel {display: flex;align-items: stretch;justify-content: center;background-color: white;position: relative;}#sk-container-id-21 div.sk-item::before, #sk-container-id-21 div.sk-parallel-item::before {content: \"\";position: absolute;border-left: 1px solid gray;box-sizing: border-box;top: 0;bottom: 0;left: 50%;z-index: -1;}#sk-container-id-21 div.sk-parallel-item {display: flex;flex-direction: column;z-index: 1;position: relative;background-color: white;}#sk-container-id-21 div.sk-parallel-item:first-child::after {align-self: flex-end;width: 50%;}#sk-container-id-21 div.sk-parallel-item:last-child::after {align-self: flex-start;width: 50%;}#sk-container-id-21 div.sk-parallel-item:only-child::after {width: 0;}#sk-container-id-21 div.sk-dashed-wrapped {border: 1px dashed gray;margin: 0 0.4em 0.5em 0.4em;box-sizing: border-box;padding-bottom: 0.4em;background-color: white;}#sk-container-id-21 div.sk-label label {font-family: monospace;font-weight: bold;display: inline-block;line-height: 1.2em;}#sk-container-id-21 div.sk-label-container {text-align: center;}#sk-container-id-21 div.sk-container {/* jupyter's `normalize.less` sets `[hidden] { display: none; }` but bootstrap.min.css set `[hidden] { display: none !important; }` so we also need the `!important` here to be able to override the default hidden behavior on the sphinx rendered scikit-learn.org. See: https://github.com/scikit-learn/scikit-learn/issues/21755 */display: inline-block !important;position: relative;}#sk-container-id-21 div.sk-text-repr-fallback {display: none;}</style><div id=\"sk-container-id-21\" class=\"sk-top-container\"><div class=\"sk-text-repr-fallback\"><pre>LinearRegression()</pre><b>In a Jupyter environment, please rerun this cell to show the HTML representation or trust the notebook. <br />On GitHub, the HTML representation is unable to render, please try loading this page with nbviewer.org.</b></div><div class=\"sk-container\" hidden><div class=\"sk-item\"><div class=\"sk-estimator sk-toggleable\"><input class=\"sk-toggleable__control sk-hidden--visually\" id=\"sk-estimator-id-29\" type=\"checkbox\" checked><label for=\"sk-estimator-id-29\" class=\"sk-toggleable__label sk-toggleable__label-arrow\">LinearRegression</label><div class=\"sk-toggleable__content\"><pre>LinearRegression()</pre></div></div></div></div></div>"
      ],
      "text/plain": [
       "LinearRegression()"
      ]
     },
     "execution_count": 351,
     "metadata": {},
     "output_type": "execute_result"
    }
   ],
   "source": [
    "linear_regression = LinearRegression()\n",
    "linear_regression.fit(X=X_trainSC, y=y_train)"
   ]
  },
  {
   "cell_type": "code",
   "execution_count": 352,
   "metadata": {
    "tags": []
   },
   "outputs": [
    {
     "name": "stdout",
     "output_type": "stream",
     "text": [
      "El coeficiente de la ecuación es 0.6967 y la intercepción con el eje es en el punto 37.6892.\n",
      "Ecuación resultante: y=0.6967X + 37.6892\n"
     ]
    }
   ],
   "source": [
    "print(f'El coeficiente de la ecuación es {linear_regression.coef_[0]:0.4f} y la intercepción con el eje es en el punto {linear_regression.intercept_:0.4f}.')\n",
    "print(f'Ecuación resultante: y={linear_regression.coef_[0]:0.4f}X + {linear_regression.intercept_:0.4f}') "
   ]
  },
  {
   "cell_type": "markdown",
   "metadata": {},
   "source": [
    "## Evaluación del Modelo\n",
    "Para evaluar el modelo se envía mediante la funcion **predict()** el conjunto de test o evaluación al modelo, esto realiza las predicciones para los valores recibidos.\n",
    "De igual manera usando la funcion **score()** la cual recibe el conjunto de test y el valor real del conjunto de test, se puede obtener la métrica de evaluación del modelo, este se interpreta como un valor de $R^2$.  La mejor puntuación posible es $1.0$ y puede ser negativa (porque el modelo puede ser arbitrariamente peor). Un modelo constante que siempre predice el valor esperado de y, sin tener en cuenta las características de entrada, obtendría una puntuación $R^2$ de $0.0$."
   ]
  },
  {
   "cell_type": "markdown",
   "metadata": {},
   "source": [
    "# Cálculo del error/score del modelo mediante el coeficiente de determinación $R^2$\n",
    "\n",
    "El R-cuadrado es una medida estadística de qué tan cerca están los datos de la línea de regresión ajustada. También se conoce como coeficiente de determinación, o coeficiente de determinación múltiple si se trata de regresión múltiple.\n",
    "\n",
    "La definición de $R^2$ es bastante sencilla: es el porcentaje de la variación en la variable de respuesta que es explicado por un modelo lineal. \n",
    "\n",
    " $$R^2(y,\\hat{y}) =1 - \\frac{\\sum_{i=1}^{n}(y_i-\\hat{y_i})^2}{\\sum_{i=1}^{n}(y_i-\\bar{y})^2}$$\n",
    "\n",
    " Donde\n",
    " $$y_i=Valor Verdadero$$\n",
    "$$\\hat{y_i}=Predicción$$\n",
    "$$\\bar{y} = \\frac{1}{n}\\sum_{i=1}^{n}y_i$$\n",
    "$$\\sum_{i=1}^{n}(y_i-\\hat{y_i})^2 = \\sum_{i=1}^{n}\\epsilon_i^2$$"
   ]
  },
  {
   "cell_type": "code",
   "execution_count": 353,
   "metadata": {},
   "outputs": [
    {
     "name": "stdout",
     "output_type": "stream",
     "text": [
      "predicted: 37.86, expected: 31.70\n",
      "predicted: 38.69, expected: 34.80\n",
      "predicted: 37.00, expected: 39.40\n",
      "predicted: 37.25, expected: 45.70\n",
      "predicted: 38.05, expected: 32.30\n",
      "predicted: 37.64, expected: 33.80\n",
      "predicted: 36.94, expected: 39.70\n",
      "El score obtenido por el modelo es -0.033370346388810423\n"
     ]
    }
   ],
   "source": [
    "# realizar la prediccion\n",
    "predicted = linear_regression.predict(X_testSC)\n",
    "expected = y_test\n",
    "\n",
    "# Imprimir cada 5 valores de la predicción \n",
    "for p, e in zip(predicted[::5], expected[::5]):\n",
    "     print(f'predicted: {p:.2f}, expected: {e:.2f}')\n",
    "        \n",
    "print(f'El score obtenido por el modelo es {linear_regression.score(X_testSC, y_test)}')"
   ]
  },
  {
   "cell_type": "markdown",
   "metadata": {},
   "source": [
    "## Predicción de Temperaturas Futuras y Pasadas"
   ]
  },
  {
   "cell_type": "code",
   "execution_count": 354,
   "metadata": {
    "tags": []
   },
   "outputs": [],
   "source": [
    "# Función lambda para predicción de valores mediante la construcción de la ecuación\n",
    "predictor = (lambda x: linear_regression.coef_ * x + linear_regression.intercept_)"
   ]
  },
  {
   "cell_type": "code",
   "execution_count": 355,
   "metadata": {
    "tags": []
   },
   "outputs": [
    {
     "name": "stdout",
     "output_type": "stream",
     "text": [
      "La predicion para el anio 2019 usando el modelo  es [38.84399018].\n"
     ]
    }
   ],
   "source": [
    "# Predicción usando el método predict\n",
    "# El método espera un vector de vectores, \n",
    "# por eso para un valor simple se debe \n",
    "# usar una notación de doble [[]]\n",
    "\n",
    "valTest=sc_X.transform([[2019]])\n",
    "\n",
    "print(f'La predicion para el anio 2019 usando el modelo  es {linear_regression.predict(valTest)}.')"
   ]
  },
  {
   "cell_type": "code",
   "execution_count": 356,
   "metadata": {
    "tags": []
   },
   "outputs": [
    {
     "name": "stdout",
     "output_type": "stream",
     "text": [
      "La predición para el anio 2019 usando la función lambda  es [[38.84399018]].\n"
     ]
    }
   ],
   "source": [
    "# Predicción usando ecuación\n",
    "print(f'La predición para el anio 2019 usando la función lambda  es {predictor(valTest)}.')"
   ]
  },
  {
   "cell_type": "markdown",
   "metadata": {},
   "source": [
    "## Visualizar el dataset con la línea de regresión\n",
    "Se puede graficar el resultado para comparar con la información del dataset."
   ]
  },
  {
   "cell_type": "code",
   "execution_count": 357,
   "metadata": {
    "tags": []
   },
   "outputs": [
    {
     "data": {
      "text/plain": [
       "<seaborn.axisgrid.FacetGrid at 0x19b0aae2b50>"
      ]
     },
     "execution_count": 357,
     "metadata": {},
     "output_type": "execute_result"
    },
    {
     "data": {
      "image/png": "[encoded data removed]",
      "text/plain": [
       "<Figure size 640x480 with 1 Axes>"
      ]
     },
     "metadata": {},
     "output_type": "display_data"
    },
    {
     "data": {
      "image/png": "[encoded data removed]",
      "text/plain": [
       "<Figure size 500x500 with 1 Axes>"
      ]
     },
     "metadata": {},
     "output_type": "display_data"
    }
   ],
   "source": [
    "axes = sns.scatterplot(data=nyc, x='Date', y='Temperature',hue='Temperature', palette='winter', legend=True)\n",
    "axes.set_ylim(10, 70)\n",
    "\n",
    "x = np.array([min(nyc.Date.values), max(nyc.Date.values)])\n",
    "x=x.reshape(-1, 1)  #[1980,2004] --> [ [1980], [2004]]\n",
    "x= sc_X.transform(x)\n",
    "y = predictor(x)\n",
    "\n",
    "line = plt.plot(sc_X.inverse_transform(x), y)\n",
    "\n",
    "# Usando un sns.lmplot\n",
    "sns.lmplot(data=nyc, x='Date', y='Temperature')\n"
   ]
  },
  {
   "cell_type": "markdown",
   "metadata": {},
   "source": [
    "<div class=\"alert alert-info\", role=\"success\">\n",
    "    <h1 style=\"font-size: 2em;\">Modelos con Regresión Lineal Múltiple </h1>\n",
    "    <h1 style=\"font-size: 2em;\">Entrene un modelo de predicción del peso de un pinguino usando solo las variables numéricas, tampoco utilice el año del dataset. </h1>\n",
    "</div>\n",
    "\n",
    "En este caso utilizará el enfoque múltiple en el cual el conjunto X contiene más de una variable para realizar el entrenamiento y predicción, por lo  cual, en este casos el conjunto **X** es una matriz y el conjunto **Y** un vector o lista de una dimensión. "
   ]
  },
  {
   "cell_type": "markdown",
   "metadata": {
    "tags": []
   },
   "source": [
    "## **[1]** Cargue el dataset y elimine los NaNs de ser necesario"
   ]
  },
  {
   "cell_type": "code",
   "execution_count": 358,
   "metadata": {},
   "outputs": [
    {
     "data": {
      "text/html": [
       "<div>\n",
       "<style scoped>\n",
       "    .dataframe tbody tr th:only-of-type {\n",
       "        vertical-align: middle;\n",
       "    }\n",
       "\n",
       "    .dataframe tbody tr th {\n",
       "        vertical-align: top;\n",
       "    }\n",
       "\n",
       "    .dataframe thead th {\n",
       "        text-align: right;\n",
       "    }\n",
       "</style>\n",
       "<table border=\"1\" class=\"dataframe\">\n",
       "  <thead>\n",
       "    <tr style=\"text-align: right;\">\n",
       "      <th></th>\n",
       "      <th>species</th>\n",
       "      <th>island</th>\n",
       "      <th>culmen_length_mm</th>\n",
       "      <th>culmen_depth_mm</th>\n",
       "      <th>flipper_length_mm</th>\n",
       "      <th>body_mass_g</th>\n",
       "      <th>sex</th>\n",
       "    </tr>\n",
       "  </thead>\n",
       "  <tbody>\n",
       "    <tr>\n",
       "      <th>0</th>\n",
       "      <td>Adelie</td>\n",
       "      <td>Torgersen</td>\n",
       "      <td>39.1</td>\n",
       "      <td>18.7</td>\n",
       "      <td>181.0</td>\n",
       "      <td>3750.0</td>\n",
       "      <td>MALE</td>\n",
       "    </tr>\n",
       "    <tr>\n",
       "      <th>1</th>\n",
       "      <td>Adelie</td>\n",
       "      <td>Torgersen</td>\n",
       "      <td>39.5</td>\n",
       "      <td>17.4</td>\n",
       "      <td>186.0</td>\n",
       "      <td>3800.0</td>\n",
       "      <td>FEMALE</td>\n",
       "    </tr>\n",
       "    <tr>\n",
       "      <th>2</th>\n",
       "      <td>Adelie</td>\n",
       "      <td>Torgersen</td>\n",
       "      <td>40.3</td>\n",
       "      <td>18.0</td>\n",
       "      <td>195.0</td>\n",
       "      <td>3250.0</td>\n",
       "      <td>FEMALE</td>\n",
       "    </tr>\n",
       "    <tr>\n",
       "      <th>3</th>\n",
       "      <td>Adelie</td>\n",
       "      <td>Torgersen</td>\n",
       "      <td>NaN</td>\n",
       "      <td>NaN</td>\n",
       "      <td>NaN</td>\n",
       "      <td>NaN</td>\n",
       "      <td>NaN</td>\n",
       "    </tr>\n",
       "    <tr>\n",
       "      <th>4</th>\n",
       "      <td>Adelie</td>\n",
       "      <td>Torgersen</td>\n",
       "      <td>36.7</td>\n",
       "      <td>19.3</td>\n",
       "      <td>193.0</td>\n",
       "      <td>3450.0</td>\n",
       "      <td>FEMALE</td>\n",
       "    </tr>\n",
       "    <tr>\n",
       "      <th>...</th>\n",
       "      <td>...</td>\n",
       "      <td>...</td>\n",
       "      <td>...</td>\n",
       "      <td>...</td>\n",
       "      <td>...</td>\n",
       "      <td>...</td>\n",
       "      <td>...</td>\n",
       "    </tr>\n",
       "    <tr>\n",
       "      <th>339</th>\n",
       "      <td>Gentoo</td>\n",
       "      <td>Biscoe</td>\n",
       "      <td>NaN</td>\n",
       "      <td>NaN</td>\n",
       "      <td>NaN</td>\n",
       "      <td>NaN</td>\n",
       "      <td>NaN</td>\n",
       "    </tr>\n",
       "    <tr>\n",
       "      <th>340</th>\n",
       "      <td>Gentoo</td>\n",
       "      <td>Biscoe</td>\n",
       "      <td>46.8</td>\n",
       "      <td>14.3</td>\n",
       "      <td>215.0</td>\n",
       "      <td>4850.0</td>\n",
       "      <td>FEMALE</td>\n",
       "    </tr>\n",
       "    <tr>\n",
       "      <th>341</th>\n",
       "      <td>Gentoo</td>\n",
       "      <td>Biscoe</td>\n",
       "      <td>50.4</td>\n",
       "      <td>15.7</td>\n",
       "      <td>222.0</td>\n",
       "      <td>5750.0</td>\n",
       "      <td>MALE</td>\n",
       "    </tr>\n",
       "    <tr>\n",
       "      <th>342</th>\n",
       "      <td>Gentoo</td>\n",
       "      <td>Biscoe</td>\n",
       "      <td>45.2</td>\n",
       "      <td>14.8</td>\n",
       "      <td>212.0</td>\n",
       "      <td>5200.0</td>\n",
       "      <td>FEMALE</td>\n",
       "    </tr>\n",
       "    <tr>\n",
       "      <th>343</th>\n",
       "      <td>Gentoo</td>\n",
       "      <td>Biscoe</td>\n",
       "      <td>49.9</td>\n",
       "      <td>16.1</td>\n",
       "      <td>213.0</td>\n",
       "      <td>5400.0</td>\n",
       "      <td>MALE</td>\n",
       "    </tr>\n",
       "  </tbody>\n",
       "</table>\n",
       "<p>344 rows × 7 columns</p>\n",
       "</div>"
      ],
      "text/plain": [
       "    species     island  culmen_length_mm  culmen_depth_mm  flipper_length_mm  \\\n",
       "0    Adelie  Torgersen              39.1             18.7              181.0   \n",
       "1    Adelie  Torgersen              39.5             17.4              186.0   \n",
       "2    Adelie  Torgersen              40.3             18.0              195.0   \n",
       "3    Adelie  Torgersen               NaN              NaN                NaN   \n",
       "4    Adelie  Torgersen              36.7             19.3              193.0   \n",
       "..      ...        ...               ...              ...                ...   \n",
       "339  Gentoo     Biscoe               NaN              NaN                NaN   \n",
       "340  Gentoo     Biscoe              46.8             14.3              215.0   \n",
       "341  Gentoo     Biscoe              50.4             15.7              222.0   \n",
       "342  Gentoo     Biscoe              45.2             14.8              212.0   \n",
       "343  Gentoo     Biscoe              49.9             16.1              213.0   \n",
       "\n",
       "     body_mass_g     sex  \n",
       "0         3750.0    MALE  \n",
       "1         3800.0  FEMALE  \n",
       "2         3250.0  FEMALE  \n",
       "3            NaN     NaN  \n",
       "4         3450.0  FEMALE  \n",
       "..           ...     ...  \n",
       "339          NaN     NaN  \n",
       "340       4850.0  FEMALE  \n",
       "341       5750.0    MALE  \n",
       "342       5200.0  FEMALE  \n",
       "343       5400.0    MALE  \n",
       "\n",
       "[344 rows x 7 columns]"
      ]
     },
     "execution_count": 358,
     "metadata": {},
     "output_type": "execute_result"
    }
   ],
   "source": [
    "import pandas as pd\n",
    "preprocess_penguins_df = pd.read_csv(\"penguins_size.csv\")\n",
    "preprocess_penguins_df"
   ]
  },
  {
   "cell_type": "code",
   "execution_count": 359,
   "metadata": {},
   "outputs": [
    {
     "name": "stdout",
     "output_type": "stream",
     "text": [
      "Filas originales: 344\n",
      "Filas después de eliminar NaN: 334\n"
     ]
    }
   ],
   "source": [
    "# Elimina todas las filas con NaN\n",
    "cleaned_penguins = preprocess_penguins_df.dropna()\n",
    "print(f\"Filas originales: {len(preprocess_penguins_df)}\")\n",
    "print(f\"Filas después de eliminar NaN: {len(cleaned_penguins)}\")"
   ]
  },
  {
   "cell_type": "code",
   "execution_count": 360,
   "metadata": {},
   "outputs": [
    {
     "name": "stdout",
     "output_type": "stream",
     "text": [
      "species              0\n",
      "island               0\n",
      "culmen_length_mm     0\n",
      "culmen_depth_mm      0\n",
      "flipper_length_mm    0\n",
      "body_mass_g          0\n",
      "sex                  0\n",
      "dtype: int64\n"
     ]
    }
   ],
   "source": [
    "print(cleaned_penguins.isna().sum())"
   ]
  },
  {
   "cell_type": "markdown",
   "metadata": {},
   "source": [
    "## **[2]** Genere el dataset solo con las variables numéricas (función **.drop()**)"
   ]
  },
  {
   "cell_type": "code",
   "execution_count": 361,
   "metadata": {},
   "outputs": [
    {
     "name": "stdout",
     "output_type": "stream",
     "text": [
      "   culmen_length_mm  culmen_depth_mm  flipper_length_mm  body_mass_g\n",
      "0              39.1             18.7              181.0       3750.0\n",
      "1              39.5             17.4              186.0       3800.0\n",
      "2              40.3             18.0              195.0       3250.0\n",
      "4              36.7             19.3              193.0       3450.0\n",
      "5              39.3             20.6              190.0       3650.0\n"
     ]
    }
   ],
   "source": [
    "numeric_penguins = cleaned_penguins.drop(columns=cleaned_penguins.select_dtypes(exclude=['number']).columns)\n",
    "print(numeric_penguins.head())"
   ]
  },
  {
   "cell_type": "markdown",
   "metadata": {},
   "source": [
    "## **[3]** Divida el dataset en conjunto de Train y Test"
   ]
  },
  {
   "cell_type": "code",
   "execution_count": 362,
   "metadata": {
    "tags": []
   },
   "outputs": [
    {
     "name": "stdout",
     "output_type": "stream",
     "text": [
      "Train - X: (267, 3), y: (267,)\n",
      "Test - X: (67, 3), y: (67,)\n"
     ]
    }
   ],
   "source": [
    "from sklearn.model_selection import train_test_split\n",
    "X = numeric_penguins.drop(columns=['body_mass_g'])  # Variables predictoras\n",
    "y = numeric_penguins['body_mass_g']                 # Variable objetivo\n",
    "\n",
    "# 2. train (80%) y test (20%)\n",
    "X_train, X_test, y_train, y_test = train_test_split(\n",
    "    X, \n",
    "    y, \n",
    "    test_size=0.2,           # Proporción para test (20%)\n",
    "    random_state=42          # Semilla para reproducibilidad\n",
    ")\n",
    "\n",
    "# 3. Verificar tamaños\n",
    "print(f\"Train - X: {X_train.shape}, y: {y_train.shape}\")\n",
    "print(f\"Test - X: {X_test.shape}, y: {y_test.shape}\")"
   ]
  },
  {
   "cell_type": "markdown",
   "metadata": {},
   "source": [
    "## **[4]** Entrene el modelo de predicción mediante Regresión Lineal"
   ]
  },
  {
   "cell_type": "code",
   "execution_count": 363,
   "metadata": {
    "tags": []
   },
   "outputs": [
    {
     "name": "stdout",
     "output_type": "stream",
     "text": [
      "Error Cuadrático Medio (MSE): 137599.06\n",
      "Coeficiente de Determinación (R²): 0.77\n",
      "\n",
      "Coeficientes del modelo:\n",
      "culmen_length_mm: 3.16\n",
      "culmen_depth_mm: 13.31\n",
      "flipper_length_mm: 50.76\n"
     ]
    }
   ],
   "source": [
    "from sklearn.linear_model import LinearRegression\n",
    "from sklearn.metrics import mean_squared_error, r2_score\n",
    "import matplotlib.pyplot as plt\n",
    "\n",
    "# 1. Crear y entrenar el modelo\n",
    "model = LinearRegression()\n",
    "model.fit(X_train, y_train)  # Entrenamiento con datos de entrenamiento\n",
    "\n",
    "# 2. Predecir con los datos de prueba\n",
    "y_pred = model.predict(X_test)\n",
    "\n",
    "# 3. Evaluar el modelo\n",
    "mse = mean_squared_error(y_test, y_pred)\n",
    "r2 = r2_score(y_test, y_pred)\n",
    "\n",
    "print(f\"Error Cuadrático Medio (MSE): {mse:.2f}\")\n",
    "print(f\"Coeficiente de Determinación (R²): {r2:.2f}\")\n",
    "\n",
    "# 4. Coeficientes del modelo (importancia de cada variable)\n",
    "print(\"\\nCoeficientes del modelo:\")\n",
    "for feature, coef in zip(X.columns, model.coef_):\n",
    "    print(f\"{feature}: {coef:.2f}\")"
   ]
  },
  {
   "cell_type": "markdown",
   "metadata": {},
   "source": [
    "## **[5]** Calcule el *score* de su modelo"
   ]
  },
  {
   "cell_type": "code",
   "execution_count": 364,
   "metadata": {
    "tags": []
   },
   "outputs": [
    {
     "name": "stdout",
     "output_type": "stream",
     "text": [
      "R² en entrenamiento: 0.7616\n",
      "R² en prueba: 0.7747\n",
      "\n",
      "El score obtenido por el modelo es 0.774737081500625\n"
     ]
    }
   ],
   "source": [
    "# Calcular R² en los conjuntos de entrenamiento y prueba\n",
    "train_score = model.score(X_train, y_train)  # R² para entrenamiento\n",
    "test_score = model.score(X_test, y_test)     # R² para prueba\n",
    "\n",
    "print(f\"R² en entrenamiento: {train_score:.4f}\")\n",
    "print(f\"R² en prueba: {test_score:.4f}\")\n",
    "\n",
    "print(f'\\nEl score obtenido por el modelo es {model.score(X_test, y_test)}')"
   ]
  },
  {
   "cell_type": "markdown",
   "metadata": {},
   "source": [
    "## Convertir a variable numérica el género, la isla y la especie y entrenar nuevamente.\n",
    "Utilice el enfoque de LabelEncoding para convertir las columnas categóricas originales (especie, isla y sexo) a numéricas y entrene un nuevo modelo.\n",
    "Puede consultar la siguiente pagina : https://www.turing.com/kb/convert-categorical-data-in-pandas-and-scikit-learn#label-encoding "
   ]
  },
  {
   "cell_type": "markdown",
   "metadata": {},
   "source": [
    "## **[6]** Genere el las secuencias X & Y para entrenar el modelo"
   ]
  },
  {
   "cell_type": "code",
   "execution_count": 365,
   "metadata": {},
   "outputs": [
    {
     "name": "stdout",
     "output_type": "stream",
     "text": [
      "Columnas originales: ['species', 'island', 'culmen_length_mm', 'culmen_depth_mm', 'flipper_length_mm', 'body_mass_g', 'sex']\n"
     ]
    }
   ],
   "source": [
    "from sklearn.preprocessing import LabelEncoder\n",
    "\n",
    "# Cargar datos originales\n",
    "df = pd.read_csv(\"penguins_size.csv\")\n",
    "\n",
    "# Eliminar filas con NaN\n",
    "cleaned_penguins = df.dropna().copy()\n",
    "\n",
    "# Verificar columnas categóricas originales\n",
    "print(\"Columnas originales:\", cleaned_penguins.columns.tolist())"
   ]
  },
  {
   "cell_type": "code",
   "execution_count": 366,
   "metadata": {},
   "outputs": [
    {
     "name": "stdout",
     "output_type": "stream",
     "text": [
      "Forma de X: (334, 3)\n",
      "Forma de y: (334,)\n"
     ]
    }
   ],
   "source": [
    "# X: Matriz de características \n",
    "X = cleaned_penguins.drop(columns=['body_mass_g', 'species', 'island', 'sex'])\n",
    "\n",
    "# y: Vector objetivo (variable a predecir)\n",
    "y = cleaned_penguins['body_mass_g']\n",
    "\n",
    "# Verificación\n",
    "print(\"Forma de X:\", X.shape)  \n",
    "print(\"Forma de y:\", y.shape)  "
   ]
  },
  {
   "cell_type": "markdown",
   "metadata": {},
   "source": [
    "## **[7]** Aplique el LabelEncoder"
   ]
  },
  {
   "cell_type": "code",
   "execution_count": 367,
   "metadata": {
    "tags": []
   },
   "outputs": [
    {
     "name": "stdout",
     "output_type": "stream",
     "text": [
      "\n",
      "Ejemplo de codificación:\n",
      "  species  species_encoded     island  island_encoded     sex  sex_encoded\n",
      "0  Adelie                0  Torgersen               2    MALE            2\n",
      "1  Adelie                0  Torgersen               2  FEMALE            1\n",
      "2  Adelie                0  Torgersen               2  FEMALE            1\n",
      "4  Adelie                0  Torgersen               2  FEMALE            1\n",
      "5  Adelie                0  Torgersen               2    MALE            2\n"
     ]
    }
   ],
   "source": [
    "# Inicializar LabelEncoder\n",
    "le = LabelEncoder()\n",
    "\n",
    "# Aplicar a cada columna categórica\n",
    "cleaned_penguins['species_encoded'] = le.fit_transform(cleaned_penguins['species'])\n",
    "cleaned_penguins['island_encoded'] = le.fit_transform(cleaned_penguins['island'])\n",
    "cleaned_penguins['sex_encoded'] = le.fit_transform(cleaned_penguins['sex'])\n",
    "\n",
    "# Verificar resultados\n",
    "print(\"\\nEjemplo de codificación:\")\n",
    "print(cleaned_penguins[['species', 'species_encoded', 'island', 'island_encoded', 'sex', 'sex_encoded']].head())"
   ]
  },
  {
   "cell_type": "markdown",
   "metadata": {},
   "source": [
    "## **[8]** Divida el dataset en conjunto de Train y Test"
   ]
  },
  {
   "cell_type": "code",
   "execution_count": 368,
   "metadata": {
    "tags": []
   },
   "outputs": [
    {
     "name": "stdout",
     "output_type": "stream",
     "text": [
      "\n",
      "Ejemplo de X_train estandarizado:\n",
      "     culmen_length_mm  culmen_depth_mm  flipper_length_mm\n",
      "230         -0.596447        -1.743053           0.921649\n",
      "84          -1.265806         0.327614          -0.724133\n",
      "303          1.095541        -0.631963           1.637206\n",
      "22          -1.526111         1.034672          -0.867245\n",
      "29          -0.670821         0.883159          -1.511246\n"
     ]
    }
   ],
   "source": [
    "from sklearn.model_selection import train_test_split\n",
    "from sklearn.preprocessing import StandardScaler\n",
    "\n",
    "# Dividir en 80% train y 20% test\n",
    "X_train, X_test, y_train, y_test = train_test_split(X, y, test_size=0.2, random_state=42)\n",
    "\n",
    "# Estandarizar solo variables numéricas continuas \n",
    "scaler = StandardScaler()\n",
    "numeric_cols = ['culmen_length_mm', 'culmen_depth_mm', 'flipper_length_mm']\n",
    "X_train[numeric_cols] = scaler.fit_transform(X_train[numeric_cols])\n",
    "X_test[numeric_cols] = scaler.transform(X_test[numeric_cols])\n",
    "\n",
    "print(\"\\nEjemplo de X_train estandarizado:\")\n",
    "print(X_train.head())\n"
   ]
  },
  {
   "cell_type": "markdown",
   "metadata": {},
   "source": [
    "## **[9]** Entrene el modelo de predicción mediante Regresión Lineal"
   ]
  },
  {
   "cell_type": "code",
   "execution_count": 369,
   "metadata": {
    "tags": []
   },
   "outputs": [
    {
     "name": "stdout",
     "output_type": "stream",
     "text": [
      "\n",
      "R²: 0.7747\n",
      "MSE: 137599.06\n"
     ]
    }
   ],
   "source": [
    "from sklearn.linear_model import LinearRegression\n",
    "from sklearn.metrics import r2_score, mean_squared_error\n",
    "\n",
    "# Crear y entrenar modelo\n",
    "model = LinearRegression()\n",
    "model.fit(X_train, y_train)\n",
    "\n",
    "# Predecir y evaluar\n",
    "y_pred = model.predict(X_test)\n",
    "r2 = r2_score(y_test, y_pred)\n",
    "mse = mean_squared_error(y_test, y_pred)\n",
    "\n",
    "print(f\"\\nR²: {r2:.4f}\")  # Debe ser alto (ej: >0.85)\n",
    "print(f\"MSE: {mse:.2f}\")"
   ]
  },
  {
   "cell_type": "markdown",
   "metadata": {},
   "source": [
    "## **[10]** Calcule el *score* de su modelo"
   ]
  },
  {
   "cell_type": "code",
   "execution_count": 370,
   "metadata": {
    "tags": []
   },
   "outputs": [
    {
     "name": "stdout",
     "output_type": "stream",
     "text": [
      "R² en entrenamiento: 0.7616\n",
      "R² en prueba: 0.7747\n",
      "\n",
      "El score obtenido por el modelo es 0.7747370815006251\n"
     ]
    }
   ],
   "source": [
    "train_score = model.score(X_train, y_train)  # R² para entrenamiento\n",
    "test_score = model.score(X_test, y_test)     # R² para prueba\n",
    "\n",
    "print(f\"R² en entrenamiento: {train_score:.4f}\")\n",
    "print(f\"R² en prueba: {test_score:.4f}\")\n",
    "print(f'\\nEl score obtenido por el modelo es {model.score(X_test, y_test)}')"
   ]
  },
  {
   "cell_type": "code",
   "execution_count": 371,
   "metadata": {},
   "outputs": [
    {
     "data": {
      "image/png": "[encoded data removed]",
      "text/plain": [
       "<Figure size 640x480 with 1 Axes>"
      ]
     },
     "metadata": {},
     "output_type": "display_data"
    }
   ],
   "source": [
    "import matplotlib.pyplot as plt\n",
    "\n",
    "plt.scatter(y_test, y_pred, alpha=0.5)\n",
    "plt.plot([y_test.min(), y_test.max()], [y_test.min(), y_test.max()], 'r--')  # Línea de referencia perfecta\n",
    "plt.xlabel(\"Valores Reales (y_test)\")\n",
    "plt.ylabel(\"Predicciones (y_pred)\")\n",
    "plt.title(f\"Regresión Lineal (R² = {test_score:.2f})\")\n",
    "plt.show()"
   ]
  },
  {
   "cell_type": "markdown",
   "metadata": {},
   "source": [
    "<div class=\"alert alert-info\", role=\"success\">\n",
    "    <h1 style=\"font-size: 2em;\">Utilizando el dataset Diamonds, entrene un modelo para la prediccion del precio del diamante usando solo las variables numericas. </h1>\n",
    "</div>\n"
   ]
  },
  {
   "cell_type": "markdown",
   "metadata": {},
   "source": [
    "## **[11]** Cargue el dataset y elimine los NaNs si el dataset cuenta con alguno."
   ]
  },
  {
   "cell_type": "code",
   "execution_count": 372,
   "metadata": {
    "tags": []
   },
   "outputs": [
    {
     "data": {
      "text/html": [
       "<div>\n",
       "<style scoped>\n",
       "    .dataframe tbody tr th:only-of-type {\n",
       "        vertical-align: middle;\n",
       "    }\n",
       "\n",
       "    .dataframe tbody tr th {\n",
       "        vertical-align: top;\n",
       "    }\n",
       "\n",
       "    .dataframe thead th {\n",
       "        text-align: right;\n",
       "    }\n",
       "</style>\n",
       "<table border=\"1\" class=\"dataframe\">\n",
       "  <thead>\n",
       "    <tr style=\"text-align: right;\">\n",
       "      <th></th>\n",
       "      <th>carat</th>\n",
       "      <th>cut</th>\n",
       "      <th>color</th>\n",
       "      <th>clarity</th>\n",
       "      <th>depth</th>\n",
       "      <th>table</th>\n",
       "      <th>price</th>\n",
       "      <th>x</th>\n",
       "      <th>y</th>\n",
       "      <th>z</th>\n",
       "    </tr>\n",
       "  </thead>\n",
       "  <tbody>\n",
       "    <tr>\n",
       "      <th>0</th>\n",
       "      <td>0.23</td>\n",
       "      <td>Ideal</td>\n",
       "      <td>E</td>\n",
       "      <td>SI2</td>\n",
       "      <td>61.5</td>\n",
       "      <td>55.0</td>\n",
       "      <td>326</td>\n",
       "      <td>3.95</td>\n",
       "      <td>3.98</td>\n",
       "      <td>2.43</td>\n",
       "    </tr>\n",
       "    <tr>\n",
       "      <th>1</th>\n",
       "      <td>0.21</td>\n",
       "      <td>Premium</td>\n",
       "      <td>E</td>\n",
       "      <td>SI1</td>\n",
       "      <td>59.8</td>\n",
       "      <td>61.0</td>\n",
       "      <td>326</td>\n",
       "      <td>3.89</td>\n",
       "      <td>3.84</td>\n",
       "      <td>2.31</td>\n",
       "    </tr>\n",
       "    <tr>\n",
       "      <th>2</th>\n",
       "      <td>0.23</td>\n",
       "      <td>Good</td>\n",
       "      <td>E</td>\n",
       "      <td>VS1</td>\n",
       "      <td>56.9</td>\n",
       "      <td>65.0</td>\n",
       "      <td>327</td>\n",
       "      <td>4.05</td>\n",
       "      <td>4.07</td>\n",
       "      <td>2.31</td>\n",
       "    </tr>\n",
       "    <tr>\n",
       "      <th>3</th>\n",
       "      <td>0.29</td>\n",
       "      <td>Premium</td>\n",
       "      <td>I</td>\n",
       "      <td>VS2</td>\n",
       "      <td>62.4</td>\n",
       "      <td>58.0</td>\n",
       "      <td>334</td>\n",
       "      <td>4.20</td>\n",
       "      <td>4.23</td>\n",
       "      <td>2.63</td>\n",
       "    </tr>\n",
       "    <tr>\n",
       "      <th>4</th>\n",
       "      <td>0.31</td>\n",
       "      <td>Good</td>\n",
       "      <td>J</td>\n",
       "      <td>SI2</td>\n",
       "      <td>63.3</td>\n",
       "      <td>58.0</td>\n",
       "      <td>335</td>\n",
       "      <td>4.34</td>\n",
       "      <td>4.35</td>\n",
       "      <td>2.75</td>\n",
       "    </tr>\n",
       "  </tbody>\n",
       "</table>\n",
       "</div>"
      ],
      "text/plain": [
       "   carat      cut color clarity  depth  table  price     x     y     z\n",
       "0   0.23    Ideal     E     SI2   61.5   55.0    326  3.95  3.98  2.43\n",
       "1   0.21  Premium     E     SI1   59.8   61.0    326  3.89  3.84  2.31\n",
       "2   0.23     Good     E     VS1   56.9   65.0    327  4.05  4.07  2.31\n",
       "3   0.29  Premium     I     VS2   62.4   58.0    334  4.20  4.23  2.63\n",
       "4   0.31     Good     J     SI2   63.3   58.0    335  4.34  4.35  2.75"
      ]
     },
     "execution_count": 372,
     "metadata": {},
     "output_type": "execute_result"
    }
   ],
   "source": [
    "import seaborn as sns\n",
    "data = sns.load_dataset('diamonds')\n",
    "data.head()"
   ]
  },
  {
   "cell_type": "code",
   "execution_count": 373,
   "metadata": {},
   "outputs": [
    {
     "name": "stdout",
     "output_type": "stream",
     "text": [
      "Valores NaN por columna:\n",
      "carat      0\n",
      "cut        0\n",
      "color      0\n",
      "clarity    0\n",
      "depth      0\n",
      "table      0\n",
      "price      0\n",
      "x          0\n",
      "y          0\n",
      "z          0\n",
      "dtype: int64\n"
     ]
    }
   ],
   "source": [
    "print(\"Valores NaN por columna:\")\n",
    "print(data.isna().sum())\n"
   ]
  },
  {
   "cell_type": "markdown",
   "metadata": {},
   "source": [
    "## **[12]** Seleccione solo las columnas numéricas y genere su conjunto X, Y"
   ]
  },
  {
   "cell_type": "code",
   "execution_count": 374,
   "metadata": {
    "tags": []
   },
   "outputs": [
    {
     "name": "stdout",
     "output_type": "stream",
     "text": [
      "Columnas numéricas seleccionadas:\n",
      "['carat', 'depth', 'table', 'price', 'x', 'y', 'z']\n"
     ]
    }
   ],
   "source": [
    "numeric_data = data.select_dtypes(include=['float64', 'int64'])\n",
    "print(\"Columnas numéricas seleccionadas:\")\n",
    "print(numeric_data.columns.tolist())"
   ]
  },
  {
   "cell_type": "code",
   "execution_count": 375,
   "metadata": {},
   "outputs": [
    {
     "name": "stdout",
     "output_type": "stream",
     "text": [
      "\n",
      "Forma de X: (53940, 6)\n",
      "Forma de y: (53940,)\n"
     ]
    }
   ],
   "source": [
    "# Definir X e y\n",
    "X = numeric_data.drop(columns=['price'])  # Matriz de características\n",
    "y = numeric_data['price']                 # Vector objetivo\n",
    "\n",
    "# Verificar formas\n",
    "print(\"\\nForma de X:\", X.shape)  # Ejemplo: (53940, 6) → 6 características\n",
    "print(\"Forma de y:\", y.shape)    # Ejemplo: (53940,)  → 1 target"
   ]
  },
  {
   "cell_type": "markdown",
   "metadata": {},
   "source": [
    "## **[13]** Divida el dataset en conjunto de Train y Test"
   ]
  },
  {
   "cell_type": "code",
   "execution_count": 376,
   "metadata": {
    "tags": []
   },
   "outputs": [
    {
     "name": "stdout",
     "output_type": "stream",
     "text": [
      "\n",
      "Ejemplo de X_train estandarizado:\n",
      "[[ 2.56005606 -2.55074762  2.93386055  2.22945022  2.13820916  1.73820671]\n",
      " [ 0.44739205 -1.22042647  1.13957453  0.74754991  0.65671016  0.5377332 ]\n",
      " [ 0.63753181  0.52999608  0.24243153  0.76540413  0.70028366  0.79195112]\n",
      " [ 1.48259742 -0.17017294  3.38243206  1.31888497  1.24930976  1.24389409]\n",
      " [ 1.5248507   0.24992847 -0.20613998  1.37244763  1.38003026  1.39924948]]\n"
     ]
    }
   ],
   "source": [
    "from sklearn.model_selection import train_test_split\n",
    "from sklearn.preprocessing import StandardScaler\n",
    "\n",
    "# Dividir en train (80%) y test (20%)\n",
    "X_train, X_test, y_train, y_test = train_test_split(X, y, test_size=0.2, random_state=42)\n",
    "\n",
    "# Estandarizar las características (recomendado para modelos lineales)\n",
    "scaler = StandardScaler()\n",
    "X_train_scaled = scaler.fit_transform(X_train)\n",
    "X_test_scaled = scaler.transform(X_test)\n",
    "\n",
    "print(\"\\nEjemplo de X_train estandarizado:\")\n",
    "print(X_train_scaled[:5])"
   ]
  },
  {
   "cell_type": "markdown",
   "metadata": {},
   "source": [
    "## **[14]** Entrene el modelo de predicción mediante Regresión Lineal"
   ]
  },
  {
   "cell_type": "code",
   "execution_count": 377,
   "metadata": {
    "tags": []
   },
   "outputs": [
    {
     "name": "stdout",
     "output_type": "stream",
     "text": [
      "\n",
      "R² del modelo: 0.8590\n"
     ]
    }
   ],
   "source": [
    "from sklearn.linear_model import LinearRegression\n",
    "from sklearn.metrics import r2_score\n",
    "\n",
    "# Crear y entrenar modelo\n",
    "model = LinearRegression()\n",
    "model.fit(X_train_scaled, y_train)\n",
    "\n",
    "# Predecir y evaluar\n",
    "y_pred = model.predict(X_test_scaled)\n",
    "r2 = r2_score(y_test, y_pred)\n",
    "print(f\"\\nR² del modelo: {r2:.4f}\")"
   ]
  },
  {
   "cell_type": "markdown",
   "metadata": {},
   "source": [
    "## **[15]** Calcule el *score* de su modelo"
   ]
  },
  {
   "cell_type": "code",
   "execution_count": 378,
   "metadata": {
    "tags": []
   },
   "outputs": [
    {
     "name": "stdout",
     "output_type": "stream",
     "text": [
      "R² en entrenamiento: 0.8593\n",
      "R² en prueba: 0.8590\n",
      "\n",
      "El score obtenido por el modelo es 0.8590\n"
     ]
    }
   ],
   "source": [
    "train_score = model.score(X_train_scaled, y_train)  # R² para entrenamiento\n",
    "test_score = model.score(X_test_scaled, y_test)     # R² para prueba\n",
    "\n",
    "print(f\"R² en entrenamiento: {train_score:.4f}\")  \n",
    "print(f\"R² en prueba: {test_score:.4f}\")    \n",
    "print(f'\\nEl score obtenido por el modelo es {model.score(X_test_scaled, y_test):.4f}')    "
   ]
  },
  {
   "cell_type": "markdown",
   "metadata": {},
   "source": [
    "<div class=\"alert alert-success\", role=\"alert\">\n",
    "    <h1 style=\"font-size: 1.5em;\">Parte 2 </h1>\n",
    "    <h2 style=\"font-size: 1.5em; \"><strong>Regresión Logística con SKLearn</strong></h2>\n",
    "</div>\n",
    "\n",
    "La Regresión Logística es un caso de la Regresión Lineal, con la única diferencia de que en este caso se utiliza solo para variables discretas o categóricas. Por lo cual, nuestra variable objetivo o **target** es una categoría dentro del dataset y la salida del modelo de predicción se limita a los valores disponibles dentro de la variable que se esta prediciendo.\n",
    "\n",
    "**basado en: https://www.aprendemachinelearning.com/regresion-logistica-con-python-paso-a-paso/**"
   ]
  },
  {
   "cell_type": "code",
   "execution_count": 379,
   "metadata": {
    "tags": []
   },
   "outputs": [],
   "source": [
    "import pandas as pd\n",
    "import numpy as np\n",
    "from sklearn import linear_model\n",
    "from sklearn import model_selection\n",
    "from sklearn.metrics import classification_report\n",
    "from sklearn.metrics import confusion_matrix\n",
    "from sklearn.metrics import accuracy_score\n",
    "import matplotlib.pyplot as plt\n",
    "import seaborn as sb"
   ]
  },
  {
   "cell_type": "markdown",
   "metadata": {},
   "source": [
    "## Cargamos los datos de entrada del archivo csv\n",
    "En este caso el dataset tiene 3 categorías de usuarios de sistemas operativos, por lo cual, se creará un modelo de prediccián de que tipo de usuario se trata basado en ciertos atributos de cada tipo de usuario."
   ]
  },
  {
   "cell_type": "code",
   "execution_count": 380,
   "metadata": {
    "tags": []
   },
   "outputs": [
    {
     "data": {
      "text/html": [
       "<div>\n",
       "<style scoped>\n",
       "    .dataframe tbody tr th:only-of-type {\n",
       "        vertical-align: middle;\n",
       "    }\n",
       "\n",
       "    .dataframe tbody tr th {\n",
       "        vertical-align: top;\n",
       "    }\n",
       "\n",
       "    .dataframe thead th {\n",
       "        text-align: right;\n",
       "    }\n",
       "</style>\n",
       "<table border=\"1\" class=\"dataframe\">\n",
       "  <thead>\n",
       "    <tr style=\"text-align: right;\">\n",
       "      <th></th>\n",
       "      <th>duracion</th>\n",
       "      <th>paginas</th>\n",
       "      <th>acciones</th>\n",
       "      <th>valor</th>\n",
       "      <th>clase</th>\n",
       "    </tr>\n",
       "  </thead>\n",
       "  <tbody>\n",
       "    <tr>\n",
       "      <th>0</th>\n",
       "      <td>7.0</td>\n",
       "      <td>2</td>\n",
       "      <td>4</td>\n",
       "      <td>8</td>\n",
       "      <td>2</td>\n",
       "    </tr>\n",
       "    <tr>\n",
       "      <th>1</th>\n",
       "      <td>21.0</td>\n",
       "      <td>2</td>\n",
       "      <td>6</td>\n",
       "      <td>6</td>\n",
       "      <td>2</td>\n",
       "    </tr>\n",
       "    <tr>\n",
       "      <th>2</th>\n",
       "      <td>57.0</td>\n",
       "      <td>2</td>\n",
       "      <td>4</td>\n",
       "      <td>4</td>\n",
       "      <td>2</td>\n",
       "    </tr>\n",
       "    <tr>\n",
       "      <th>3</th>\n",
       "      <td>101.0</td>\n",
       "      <td>3</td>\n",
       "      <td>6</td>\n",
       "      <td>12</td>\n",
       "      <td>2</td>\n",
       "    </tr>\n",
       "    <tr>\n",
       "      <th>4</th>\n",
       "      <td>109.0</td>\n",
       "      <td>2</td>\n",
       "      <td>6</td>\n",
       "      <td>12</td>\n",
       "      <td>2</td>\n",
       "    </tr>\n",
       "  </tbody>\n",
       "</table>\n",
       "</div>"
      ],
      "text/plain": [
       "   duracion  paginas  acciones  valor  clase\n",
       "0       7.0        2         4      8      2\n",
       "1      21.0        2         6      6      2\n",
       "2      57.0        2         4      4      2\n",
       "3     101.0        3         6     12      2\n",
       "4     109.0        2         6     12      2"
      ]
     },
     "execution_count": 380,
     "metadata": {},
     "output_type": "execute_result"
    }
   ],
   "source": [
    "dataframe = pd.read_csv(r\"usuarios_win_mac_lin.csv\")\n",
    "dataframe.head()"
   ]
  },
  {
   "cell_type": "code",
   "execution_count": 381,
   "metadata": {
    "tags": []
   },
   "outputs": [
    {
     "data": {
      "text/html": [
       "<div>\n",
       "<style scoped>\n",
       "    .dataframe tbody tr th:only-of-type {\n",
       "        vertical-align: middle;\n",
       "    }\n",
       "\n",
       "    .dataframe tbody tr th {\n",
       "        vertical-align: top;\n",
       "    }\n",
       "\n",
       "    .dataframe thead th {\n",
       "        text-align: right;\n",
       "    }\n",
       "</style>\n",
       "<table border=\"1\" class=\"dataframe\">\n",
       "  <thead>\n",
       "    <tr style=\"text-align: right;\">\n",
       "      <th></th>\n",
       "      <th>duracion</th>\n",
       "      <th>paginas</th>\n",
       "      <th>acciones</th>\n",
       "      <th>valor</th>\n",
       "      <th>clase</th>\n",
       "    </tr>\n",
       "  </thead>\n",
       "  <tbody>\n",
       "    <tr>\n",
       "      <th>count</th>\n",
       "      <td>170.000000</td>\n",
       "      <td>170.000000</td>\n",
       "      <td>170.000000</td>\n",
       "      <td>170.000000</td>\n",
       "      <td>170.000000</td>\n",
       "    </tr>\n",
       "    <tr>\n",
       "      <th>mean</th>\n",
       "      <td>111.075729</td>\n",
       "      <td>2.041176</td>\n",
       "      <td>8.723529</td>\n",
       "      <td>32.676471</td>\n",
       "      <td>0.752941</td>\n",
       "    </tr>\n",
       "    <tr>\n",
       "      <th>std</th>\n",
       "      <td>202.453200</td>\n",
       "      <td>1.500911</td>\n",
       "      <td>9.136054</td>\n",
       "      <td>44.751993</td>\n",
       "      <td>0.841327</td>\n",
       "    </tr>\n",
       "    <tr>\n",
       "      <th>min</th>\n",
       "      <td>1.000000</td>\n",
       "      <td>1.000000</td>\n",
       "      <td>1.000000</td>\n",
       "      <td>1.000000</td>\n",
       "      <td>0.000000</td>\n",
       "    </tr>\n",
       "    <tr>\n",
       "      <th>25%</th>\n",
       "      <td>11.000000</td>\n",
       "      <td>1.000000</td>\n",
       "      <td>3.000000</td>\n",
       "      <td>8.000000</td>\n",
       "      <td>0.000000</td>\n",
       "    </tr>\n",
       "    <tr>\n",
       "      <th>50%</th>\n",
       "      <td>13.000000</td>\n",
       "      <td>2.000000</td>\n",
       "      <td>6.000000</td>\n",
       "      <td>20.000000</td>\n",
       "      <td>0.000000</td>\n",
       "    </tr>\n",
       "    <tr>\n",
       "      <th>75%</th>\n",
       "      <td>108.000000</td>\n",
       "      <td>2.000000</td>\n",
       "      <td>10.000000</td>\n",
       "      <td>36.000000</td>\n",
       "      <td>2.000000</td>\n",
       "    </tr>\n",
       "    <tr>\n",
       "      <th>max</th>\n",
       "      <td>898.000000</td>\n",
       "      <td>9.000000</td>\n",
       "      <td>63.000000</td>\n",
       "      <td>378.000000</td>\n",
       "      <td>2.000000</td>\n",
       "    </tr>\n",
       "  </tbody>\n",
       "</table>\n",
       "</div>"
      ],
      "text/plain": [
       "         duracion     paginas    acciones       valor       clase\n",
       "count  170.000000  170.000000  170.000000  170.000000  170.000000\n",
       "mean   111.075729    2.041176    8.723529   32.676471    0.752941\n",
       "std    202.453200    1.500911    9.136054   44.751993    0.841327\n",
       "min      1.000000    1.000000    1.000000    1.000000    0.000000\n",
       "25%     11.000000    1.000000    3.000000    8.000000    0.000000\n",
       "50%     13.000000    2.000000    6.000000   20.000000    0.000000\n",
       "75%    108.000000    2.000000   10.000000   36.000000    2.000000\n",
       "max    898.000000    9.000000   63.000000  378.000000    2.000000"
      ]
     },
     "execution_count": 381,
     "metadata": {},
     "output_type": "execute_result"
    }
   ],
   "source": [
    "dataframe.describe()"
   ]
  },
  {
   "cell_type": "markdown",
   "metadata": {},
   "source": [
    "## Exploramos un poco el dataset"
   ]
  },
  {
   "cell_type": "code",
   "execution_count": 382,
   "metadata": {
    "tags": []
   },
   "outputs": [
    {
     "name": "stdout",
     "output_type": "stream",
     "text": [
      "clase\n",
      "0    86\n",
      "1    40\n",
      "2    44\n",
      "dtype: int64\n"
     ]
    }
   ],
   "source": [
    "print(dataframe.groupby('clase').size())"
   ]
  },
  {
   "cell_type": "code",
   "execution_count": 383,
   "metadata": {
    "tags": []
   },
   "outputs": [
    {
     "name": "stderr",
     "output_type": "stream",
     "text": [
      "c:\\Users\\steph\\anaconda3\\Lib\\site-packages\\seaborn\\_oldcore.py:1119: FutureWarning: use_inf_as_na option is deprecated and will be removed in a future version. Convert inf values to NaN before operating instead.\n",
      "  with pd.option_context('mode.use_inf_as_na', True):\n",
      "c:\\Users\\steph\\anaconda3\\Lib\\site-packages\\seaborn\\_oldcore.py:1119: FutureWarning: use_inf_as_na option is deprecated and will be removed in a future version. Convert inf values to NaN before operating instead.\n",
      "  with pd.option_context('mode.use_inf_as_na', True):\n",
      "c:\\Users\\steph\\anaconda3\\Lib\\site-packages\\seaborn\\_oldcore.py:1119: FutureWarning: use_inf_as_na option is deprecated and will be removed in a future version. Convert inf values to NaN before operating instead.\n",
      "  with pd.option_context('mode.use_inf_as_na', True):\n",
      "c:\\Users\\steph\\anaconda3\\Lib\\site-packages\\seaborn\\_oldcore.py:1119: FutureWarning: use_inf_as_na option is deprecated and will be removed in a future version. Convert inf values to NaN before operating instead.\n",
      "  with pd.option_context('mode.use_inf_as_na', True):\n"
     ]
    },
    {
     "data": {
      "text/plain": [
       "<seaborn.axisgrid.PairGrid at 0x19b06a60f10>"
      ]
     },
     "execution_count": 383,
     "metadata": {},
     "output_type": "execute_result"
    },
    {
     "data": {
      "image/png": "[encoded data removed]",
      "text/plain": [
       "<Figure size 1658.88x1600 with 20 Axes>"
      ]
     },
     "metadata": {},
     "output_type": "display_data"
    }
   ],
   "source": [
    "sb.pairplot(dataframe.dropna(), \n",
    "            hue='clase',\n",
    "            height=4,\n",
    "            vars=[\"duracion\", \"paginas\",\"acciones\",\"valor\"],\n",
    "            kind='reg',  \n",
    "            markers=[\"o\", \"s\", \"D\"])"
   ]
  },
  {
   "cell_type": "markdown",
   "metadata": {},
   "source": [
    "## Creamos el modelo"
   ]
  },
  {
   "cell_type": "code",
   "execution_count": 384,
   "metadata": {
    "tags": []
   },
   "outputs": [
    {
     "data": {
      "text/plain": [
       "(170, 4)"
      ]
     },
     "execution_count": 384,
     "metadata": {},
     "output_type": "execute_result"
    }
   ],
   "source": [
    "# Definición de los elementos X & Y\n",
    "X = np.array(dataframe.drop(['clase'], axis='columns'))\n",
    "y = np.array(dataframe['clase'])\n",
    "X.shape"
   ]
  },
  {
   "cell_type": "code",
   "execution_count": 385,
   "metadata": {},
   "outputs": [],
   "source": [
    "# Escalamiento de los datos\n",
    "Usersc_X = StandardScaler()\n",
    "X_trainSC=Usersc_X.fit_transform(X)"
   ]
  },
  {
   "cell_type": "code",
   "execution_count": 386,
   "metadata": {
    "tags": []
   },
   "outputs": [
    {
     "data": {
      "text/html": [
       "<style>#sk-container-id-22 {color: black;background-color: white;}#sk-container-id-22 pre{padding: 0;}#sk-container-id-22 div.sk-toggleable {background-color: white;}#sk-container-id-22 label.sk-toggleable__label {cursor: pointer;display: block;width: 100%;margin-bottom: 0;padding: 0.3em;box-sizing: border-box;text-align: center;}#sk-container-id-22 label.sk-toggleable__label-arrow:before {content: \"▸\";float: left;margin-right: 0.25em;color: #696969;}#sk-container-id-22 label.sk-toggleable__label-arrow:hover:before {color: black;}#sk-container-id-22 div.sk-estimator:hover label.sk-toggleable__label-arrow:before {color: black;}#sk-container-id-22 div.sk-toggleable__content {max-height: 0;max-width: 0;overflow: hidden;text-align: left;background-color: #f0f8ff;}#sk-container-id-22 div.sk-toggleable__content pre {margin: 0.2em;color: black;border-radius: 0.25em;background-color: #f0f8ff;}#sk-container-id-22 input.sk-toggleable__control:checked~div.sk-toggleable__content {max-height: 200px;max-width: 100%;overflow: auto;}#sk-container-id-22 input.sk-toggleable__control:checked~label.sk-toggleable__label-arrow:before {content: \"▾\";}#sk-container-id-22 div.sk-estimator input.sk-toggleable__control:checked~label.sk-toggleable__label {background-color: #d4ebff;}#sk-container-id-22 div.sk-label input.sk-toggleable__control:checked~label.sk-toggleable__label {background-color: #d4ebff;}#sk-container-id-22 input.sk-hidden--visually {border: 0;clip: rect(1px 1px 1px 1px);clip: rect(1px, 1px, 1px, 1px);height: 1px;margin: -1px;overflow: hidden;padding: 0;position: absolute;width: 1px;}#sk-container-id-22 div.sk-estimator {font-family: monospace;background-color: #f0f8ff;border: 1px dotted black;border-radius: 0.25em;box-sizing: border-box;margin-bottom: 0.5em;}#sk-container-id-22 div.sk-estimator:hover {background-color: #d4ebff;}#sk-container-id-22 div.sk-parallel-item::after {content: \"\";width: 100%;border-bottom: 1px solid gray;flex-grow: 1;}#sk-container-id-22 div.sk-label:hover label.sk-toggleable__label {background-color: #d4ebff;}#sk-container-id-22 div.sk-serial::before {content: \"\";position: absolute;border-left: 1px solid gray;box-sizing: border-box;top: 0;bottom: 0;left: 50%;z-index: 0;}#sk-container-id-22 div.sk-serial {display: flex;flex-direction: column;align-items: center;background-color: white;padding-right: 0.2em;padding-left: 0.2em;position: relative;}#sk-container-id-22 div.sk-item {position: relative;z-index: 1;}#sk-container-id-22 div.sk-parallel {display: flex;align-items: stretch;justify-content: center;background-color: white;position: relative;}#sk-container-id-22 div.sk-item::before, #sk-container-id-22 div.sk-parallel-item::before {content: \"\";position: absolute;border-left: 1px solid gray;box-sizing: border-box;top: 0;bottom: 0;left: 50%;z-index: -1;}#sk-container-id-22 div.sk-parallel-item {display: flex;flex-direction: column;z-index: 1;position: relative;background-color: white;}#sk-container-id-22 div.sk-parallel-item:first-child::after {align-self: flex-end;width: 50%;}#sk-container-id-22 div.sk-parallel-item:last-child::after {align-self: flex-start;width: 50%;}#sk-container-id-22 div.sk-parallel-item:only-child::after {width: 0;}#sk-container-id-22 div.sk-dashed-wrapped {border: 1px dashed gray;margin: 0 0.4em 0.5em 0.4em;box-sizing: border-box;padding-bottom: 0.4em;background-color: white;}#sk-container-id-22 div.sk-label label {font-family: monospace;font-weight: bold;display: inline-block;line-height: 1.2em;}#sk-container-id-22 div.sk-label-container {text-align: center;}#sk-container-id-22 div.sk-container {/* jupyter's `normalize.less` sets `[hidden] { display: none; }` but bootstrap.min.css set `[hidden] { display: none !important; }` so we also need the `!important` here to be able to override the default hidden behavior on the sphinx rendered scikit-learn.org. See: https://github.com/scikit-learn/scikit-learn/issues/21755 */display: inline-block !important;position: relative;}#sk-container-id-22 div.sk-text-repr-fallback {display: none;}</style><div id=\"sk-container-id-22\" class=\"sk-top-container\"><div class=\"sk-text-repr-fallback\"><pre>LogisticRegression(max_iter=500)</pre><b>In a Jupyter environment, please rerun this cell to show the HTML representation or trust the notebook. <br />On GitHub, the HTML representation is unable to render, please try loading this page with nbviewer.org.</b></div><div class=\"sk-container\" hidden><div class=\"sk-item\"><div class=\"sk-estimator sk-toggleable\"><input class=\"sk-toggleable__control sk-hidden--visually\" id=\"sk-estimator-id-30\" type=\"checkbox\" checked><label for=\"sk-estimator-id-30\" class=\"sk-toggleable__label sk-toggleable__label-arrow\">LogisticRegression</label><div class=\"sk-toggleable__content\"><pre>LogisticRegression(max_iter=500)</pre></div></div></div></div></div>"
      ],
      "text/plain": [
       "LogisticRegression(max_iter=500)"
      ]
     },
     "execution_count": 386,
     "metadata": {},
     "output_type": "execute_result"
    }
   ],
   "source": [
    "# Entrenamiento del Modelo\n",
    "model = linear_model.LogisticRegression(max_iter=500)\n",
    "model.fit(X_trainSC,y)"
   ]
  },
  {
   "cell_type": "code",
   "execution_count": 387,
   "metadata": {
    "scrolled": true,
    "tags": []
   },
   "outputs": [
    {
     "name": "stdout",
     "output_type": "stream",
     "text": [
      "[2 2 2 2 0 1 2 2 0 1 0 0 2 0 0 1 0 0 0 2 0 0 2 2 2 2 0 0 0 2 0 2 0 0]\n"
     ]
    }
   ],
   "source": [
    "# Clase que el modelo predijo para cada instancia\n",
    "predictions = model.predict(X_trainSC)\n",
    "print(predictions[::5])"
   ]
  },
  {
   "cell_type": "markdown",
   "metadata": {},
   "source": [
    "## En este caso el **score** del modelo se trata de una medida de la exactitud/accuracy del modelo usando sus predicciones sobre el conjunto de datos, esta se entiende como la cantidad de aciertos divida entre la cantidad total de instancias.\n",
    "\n"
   ]
  },
  {
   "cell_type": "code",
   "execution_count": 388,
   "metadata": {
    "tags": []
   },
   "outputs": [
    {
     "name": "stdout",
     "output_type": "stream",
     "text": [
      "El porcentaje de aciertos del modelo fue 0.7\n"
     ]
    }
   ],
   "source": [
    "print(f'El porcentaje de aciertos del modelo fue {model.score(X_trainSC,y)}')"
   ]
  },
  {
   "cell_type": "markdown",
   "metadata": {},
   "source": [
    "## Validación del Modelo\n",
    "En este caso se realiza una división del dataset en train/test y se usa un enfoque de Cross Validation para evaluar la exactitud de un modelo entrenado usando una secuencia de train y test.\n",
    "\n",
    "Más Información: https://datascientest.com/en/the-importance-of-cross-validation"
   ]
  },
  {
   "cell_type": "code",
   "execution_count": 389,
   "metadata": {
    "tags": []
   },
   "outputs": [],
   "source": [
    "validation_size = 0.20\n",
    "seed = 5\n",
    "X_train, X_validation, Y_train, Y_validation = model_selection.train_test_split(X_trainSC, y, test_size=validation_size, random_state=seed)"
   ]
  },
  {
   "cell_type": "code",
   "execution_count": 390,
   "metadata": {
    "tags": []
   },
   "outputs": [
    {
     "name": "stdout",
     "output_type": "stream",
     "text": [
      "El resultado del modelo evaluado con Cross Validation fue\n",
      ":  Clasificador de Logistic Regression: 0.647253 STD: (0.121919)\n"
     ]
    }
   ],
   "source": [
    "name='Logistic Regression'\n",
    "kfold = model_selection.KFold(n_splits=10)\n",
    "cv_results = model_selection.cross_val_score(model, X_train, Y_train, cv=kfold, scoring='accuracy')\n",
    "msg = \"Clasificador de %s: %f STD: (%f)\" % (name, cv_results.mean(), cv_results.std())\n",
    "print(f'El resultado del modelo evaluado con Cross Validation fue\\n:  {msg}')"
   ]
  },
  {
   "cell_type": "markdown",
   "metadata": {},
   "source": [
    "## De igual manera se puede calcular el accuracy mediante el método **accuracy_score** de SKLearn, el cual recibe el valor real para cada instancia y la predicción realizada para cada instancia."
   ]
  },
  {
   "cell_type": "code",
   "execution_count": 391,
   "metadata": {
    "tags": []
   },
   "outputs": [
    {
     "name": "stdout",
     "output_type": "stream",
     "text": [
      "El resultado del modelo evaluado con usando el conjunto de validación es:  0.8529.\n"
     ]
    }
   ],
   "source": [
    "predictions = model.predict(X_validation)\n",
    "print(f'El resultado del modelo evaluado con usando el conjunto de validación es:  {accuracy_score(Y_validation, predictions):.4f}.')"
   ]
  },
  {
   "cell_type": "markdown",
   "metadata": {},
   "source": [
    "## Reporte de Resultados y Matriz de Confusión\n",
    "### Classification Report\n",
    "El reporte de resultados que genera SKLearn utiliza las predicciones y el valor real para cada instancia y calcula un conjunto de métricas que permiten entender el comportamiento y los resultados del clasificador.\n"
   ]
  },
  {
   "cell_type": "code",
   "execution_count": 392,
   "metadata": {
    "tags": []
   },
   "outputs": [
    {
     "name": "stdout",
     "output_type": "stream",
     "text": [
      "              precision    recall  f1-score   support\n",
      "\n",
      "           0       0.85      0.94      0.89        18\n",
      "           1       1.00      0.56      0.71         9\n",
      "           2       0.78      1.00      0.88         7\n",
      "\n",
      "    accuracy                           0.85        34\n",
      "   macro avg       0.88      0.83      0.83        34\n",
      "weighted avg       0.87      0.85      0.84        34\n",
      "\n"
     ]
    }
   ],
   "source": [
    "print(classification_report(Y_validation, predictions))"
   ]
  },
  {
   "cell_type": "markdown",
   "metadata": {},
   "source": [
    "### Matriz de Confusión \n",
    "La matriz de confusión es un elemento fundamental para el aprendizaje supervisado en la predicción de categorías. Esta permite entender el comportamiento del modelo en comparativa con todas las categorías del dataset. Sus análisis permite identificar donde estan los errores del modelo y entre cuales clases se presenta una mayor confusión. \n",
    "\n",
    "Se presentan 2 maneras de calcularla, la primera mediante la función *confusion_matrix* la cual devuelve una cadena con la configuración de la matriz. \n",
    "La segunda manera se enfoca en utilizar una función de SKLearn que permite generar la matriz de confusión de manera Gráfica usando internamente Seaborn y MatPlotLib. Esta recibe el modelo y un conjunto de valores para realizar la predicciones y generar los datos de la matriz. \n",
    "\n",
    "Esta función recibe un parámetro *normalize='true'* que permite que los valores en las celdas se expresen normalizados, de tal manera se pueda realizar una comparativa más entandarizada.\n",
    "\n",
    "Más información: https://www.juanbarrios.com/la-matriz-de-confusion-y-sus-metricas/"
   ]
  },
  {
   "cell_type": "code",
   "execution_count": 393,
   "metadata": {
    "tags": []
   },
   "outputs": [
    {
     "name": "stdout",
     "output_type": "stream",
     "text": [
      "[[17  0  1]\n",
      " [ 3  5  1]\n",
      " [ 0  0  7]]\n"
     ]
    }
   ],
   "source": [
    "print(confusion_matrix(Y_validation, predictions))"
   ]
  },
  {
   "cell_type": "code",
   "execution_count": 394,
   "metadata": {
    "tags": []
   },
   "outputs": [
    {
     "data": {
      "image/png": "[encoded data removed]",
      "text/plain": [
       "<Figure size 640x480 with 2 Axes>"
      ]
     },
     "metadata": {},
     "output_type": "display_data"
    }
   ],
   "source": [
    "from sklearn.metrics import ConfusionMatrixDisplay\n",
    "import matplotlib.pyplot as plt\n",
    "categorias = [\"Windows\",\"MAC\",\"Linux\"]\n",
    "fig=ConfusionMatrixDisplay.from_estimator(model, X_validation, Y_validation,display_labels=categorias, cmap=\"Greens\")  \n",
    "fig.figure_.suptitle(\"Confusion Matrix\")\n",
    "plt.show()"
   ]
  },
  {
   "cell_type": "code",
   "execution_count": 395,
   "metadata": {
    "tags": []
   },
   "outputs": [
    {
     "data": {
      "image/png": "[encoded data removed]",
      "text/plain": [
       "<Figure size 640x480 with 2 Axes>"
      ]
     },
     "metadata": {},
     "output_type": "display_data"
    }
   ],
   "source": [
    "# Matriz de Confusión Normalizada\n",
    "\n",
    "from sklearn.metrics import ConfusionMatrixDisplay\n",
    "import matplotlib.pyplot as plt\n",
    "categorias = [\"Windows\",\"MAC\",\"Linux\"]\n",
    "fig=ConfusionMatrixDisplay.from_estimator(model, X_validation, Y_validation,display_labels=categorias, cmap=\"Greens\", normalize='true')  \n",
    "fig.figure_.suptitle(\"Confusion Matrix\")\n",
    "plt.show()"
   ]
  },
  {
   "cell_type": "markdown",
   "metadata": {},
   "source": [
    "# Clasificación de nuevos registros"
   ]
  },
  {
   "cell_type": "code",
   "execution_count": 396,
   "metadata": {
    "tags": []
   },
   "outputs": [
    {
     "data": {
      "text/plain": [
       "'La información ingresada corresponde con un usuario de MAC.'"
      ]
     },
     "execution_count": 396,
     "metadata": {},
     "output_type": "execute_result"
    }
   ],
   "source": [
    "# Se crea un arreglo con valores definidos por el programador, \n",
    "# para probar la predicción del modelo. \n",
    "X_new = np.array([8,38,5,1]).reshape(1, -1) \n",
    "        #pd.DataFrame({'duracion': [8], 'paginas': [38], 'acciones': [5], 'valor': [1]})\n",
    "pred=model.predict(Usersc_X.inverse_transform(X_new))\n",
    "f\"La información ingresada corresponde con un usuario de {categorias[pred[0]]}.\""
   ]
  },
  {
   "cell_type": "markdown",
   "metadata": {},
   "source": [
    "<div class=\"alert alert-info\", role=\"success\">\n",
    "    <h1 style=\"font-size: 2em;\">Entrene un modelo para la predicción de la Especie del Pinguino usando solo los datos numéricos presentes en el dataset. </h1>\n",
    "</div>\n",
    "\n",
    "**obs.** Retirar también la variable 'year' del dataset"
   ]
  },
  {
   "cell_type": "markdown",
   "metadata": {},
   "source": [
    "## **[16]** Cargue el dataset y elimine los NaNs si existen"
   ]
  },
  {
   "cell_type": "code",
   "execution_count": 397,
   "metadata": {
    "tags": []
   },
   "outputs": [
    {
     "data": {
      "text/html": [
       "<div>\n",
       "<style scoped>\n",
       "    .dataframe tbody tr th:only-of-type {\n",
       "        vertical-align: middle;\n",
       "    }\n",
       "\n",
       "    .dataframe tbody tr th {\n",
       "        vertical-align: top;\n",
       "    }\n",
       "\n",
       "    .dataframe thead th {\n",
       "        text-align: right;\n",
       "    }\n",
       "</style>\n",
       "<table border=\"1\" class=\"dataframe\">\n",
       "  <thead>\n",
       "    <tr style=\"text-align: right;\">\n",
       "      <th></th>\n",
       "      <th>species</th>\n",
       "      <th>island</th>\n",
       "      <th>culmen_length_mm</th>\n",
       "      <th>culmen_depth_mm</th>\n",
       "      <th>flipper_length_mm</th>\n",
       "      <th>body_mass_g</th>\n",
       "      <th>sex</th>\n",
       "    </tr>\n",
       "  </thead>\n",
       "  <tbody>\n",
       "    <tr>\n",
       "      <th>0</th>\n",
       "      <td>Adelie</td>\n",
       "      <td>Torgersen</td>\n",
       "      <td>39.1</td>\n",
       "      <td>18.7</td>\n",
       "      <td>181.0</td>\n",
       "      <td>3750.0</td>\n",
       "      <td>MALE</td>\n",
       "    </tr>\n",
       "    <tr>\n",
       "      <th>1</th>\n",
       "      <td>Adelie</td>\n",
       "      <td>Torgersen</td>\n",
       "      <td>39.5</td>\n",
       "      <td>17.4</td>\n",
       "      <td>186.0</td>\n",
       "      <td>3800.0</td>\n",
       "      <td>FEMALE</td>\n",
       "    </tr>\n",
       "    <tr>\n",
       "      <th>2</th>\n",
       "      <td>Adelie</td>\n",
       "      <td>Torgersen</td>\n",
       "      <td>40.3</td>\n",
       "      <td>18.0</td>\n",
       "      <td>195.0</td>\n",
       "      <td>3250.0</td>\n",
       "      <td>FEMALE</td>\n",
       "    </tr>\n",
       "    <tr>\n",
       "      <th>3</th>\n",
       "      <td>Adelie</td>\n",
       "      <td>Torgersen</td>\n",
       "      <td>NaN</td>\n",
       "      <td>NaN</td>\n",
       "      <td>NaN</td>\n",
       "      <td>NaN</td>\n",
       "      <td>NaN</td>\n",
       "    </tr>\n",
       "    <tr>\n",
       "      <th>4</th>\n",
       "      <td>Adelie</td>\n",
       "      <td>Torgersen</td>\n",
       "      <td>36.7</td>\n",
       "      <td>19.3</td>\n",
       "      <td>193.0</td>\n",
       "      <td>3450.0</td>\n",
       "      <td>FEMALE</td>\n",
       "    </tr>\n",
       "    <tr>\n",
       "      <th>...</th>\n",
       "      <td>...</td>\n",
       "      <td>...</td>\n",
       "      <td>...</td>\n",
       "      <td>...</td>\n",
       "      <td>...</td>\n",
       "      <td>...</td>\n",
       "      <td>...</td>\n",
       "    </tr>\n",
       "    <tr>\n",
       "      <th>339</th>\n",
       "      <td>Gentoo</td>\n",
       "      <td>Biscoe</td>\n",
       "      <td>NaN</td>\n",
       "      <td>NaN</td>\n",
       "      <td>NaN</td>\n",
       "      <td>NaN</td>\n",
       "      <td>NaN</td>\n",
       "    </tr>\n",
       "    <tr>\n",
       "      <th>340</th>\n",
       "      <td>Gentoo</td>\n",
       "      <td>Biscoe</td>\n",
       "      <td>46.8</td>\n",
       "      <td>14.3</td>\n",
       "      <td>215.0</td>\n",
       "      <td>4850.0</td>\n",
       "      <td>FEMALE</td>\n",
       "    </tr>\n",
       "    <tr>\n",
       "      <th>341</th>\n",
       "      <td>Gentoo</td>\n",
       "      <td>Biscoe</td>\n",
       "      <td>50.4</td>\n",
       "      <td>15.7</td>\n",
       "      <td>222.0</td>\n",
       "      <td>5750.0</td>\n",
       "      <td>MALE</td>\n",
       "    </tr>\n",
       "    <tr>\n",
       "      <th>342</th>\n",
       "      <td>Gentoo</td>\n",
       "      <td>Biscoe</td>\n",
       "      <td>45.2</td>\n",
       "      <td>14.8</td>\n",
       "      <td>212.0</td>\n",
       "      <td>5200.0</td>\n",
       "      <td>FEMALE</td>\n",
       "    </tr>\n",
       "    <tr>\n",
       "      <th>343</th>\n",
       "      <td>Gentoo</td>\n",
       "      <td>Biscoe</td>\n",
       "      <td>49.9</td>\n",
       "      <td>16.1</td>\n",
       "      <td>213.0</td>\n",
       "      <td>5400.0</td>\n",
       "      <td>MALE</td>\n",
       "    </tr>\n",
       "  </tbody>\n",
       "</table>\n",
       "<p>344 rows × 7 columns</p>\n",
       "</div>"
      ],
      "text/plain": [
       "    species     island  culmen_length_mm  culmen_depth_mm  flipper_length_mm  \\\n",
       "0    Adelie  Torgersen              39.1             18.7              181.0   \n",
       "1    Adelie  Torgersen              39.5             17.4              186.0   \n",
       "2    Adelie  Torgersen              40.3             18.0              195.0   \n",
       "3    Adelie  Torgersen               NaN              NaN                NaN   \n",
       "4    Adelie  Torgersen              36.7             19.3              193.0   \n",
       "..      ...        ...               ...              ...                ...   \n",
       "339  Gentoo     Biscoe               NaN              NaN                NaN   \n",
       "340  Gentoo     Biscoe              46.8             14.3              215.0   \n",
       "341  Gentoo     Biscoe              50.4             15.7              222.0   \n",
       "342  Gentoo     Biscoe              45.2             14.8              212.0   \n",
       "343  Gentoo     Biscoe              49.9             16.1              213.0   \n",
       "\n",
       "     body_mass_g     sex  \n",
       "0         3750.0    MALE  \n",
       "1         3800.0  FEMALE  \n",
       "2         3250.0  FEMALE  \n",
       "3            NaN     NaN  \n",
       "4         3450.0  FEMALE  \n",
       "..           ...     ...  \n",
       "339          NaN     NaN  \n",
       "340       4850.0  FEMALE  \n",
       "341       5750.0    MALE  \n",
       "342       5200.0  FEMALE  \n",
       "343       5400.0    MALE  \n",
       "\n",
       "[344 rows x 7 columns]"
      ]
     },
     "execution_count": 397,
     "metadata": {},
     "output_type": "execute_result"
    }
   ],
   "source": [
    "import pandas as pd\n",
    "preprocess_penguins_df = pd.read_csv(\"penguins_size.csv\")\n",
    "preprocess_penguins_df"
   ]
  },
  {
   "cell_type": "code",
   "execution_count": 398,
   "metadata": {},
   "outputs": [
    {
     "name": "stdout",
     "output_type": "stream",
     "text": [
      "Filas originales: 344\n",
      "Filas después de eliminar NaN: 334\n"
     ]
    }
   ],
   "source": [
    "cleaned_penguins = preprocess_penguins_df.dropna()\n",
    "if 'year' in cleaned_penguins.columns:\n",
    "    cleaned_penguins = cleaned_penguins.drop(columns=['year'])\n",
    "\n",
    "\n",
    "print(f\"Filas originales: {len(preprocess_penguins_df)}\")\n",
    "print(f\"Filas después de eliminar NaN: {len(cleaned_penguins)}\")"
   ]
  },
  {
   "cell_type": "markdown",
   "metadata": {},
   "source": [
    "## **[17]** Genere el dataset solo con las variables numéricas (funcion **.drop()**), separe X & Y para el entrenamiento"
   ]
  },
  {
   "cell_type": "code",
   "execution_count": 399,
   "metadata": {
    "tags": []
   },
   "outputs": [
    {
     "name": "stdout",
     "output_type": "stream",
     "text": [
      "Columnas numéricas seleccionadas:\n",
      "['culmen_length_mm', 'culmen_depth_mm', 'flipper_length_mm', 'body_mass_g']\n"
     ]
    }
   ],
   "source": [
    "numeric_penguins = cleaned_penguins.drop(columns=cleaned_penguins.select_dtypes(exclude=['int64', 'float64']).columns)\n",
    "print(\"Columnas numéricas seleccionadas:\")\n",
    "print(numeric_penguins.columns.tolist())"
   ]
  },
  {
   "cell_type": "code",
   "execution_count": 400,
   "metadata": {},
   "outputs": [
    {
     "name": "stdout",
     "output_type": "stream",
     "text": [
      "\n",
      "Forma de X: (334, 4)\n",
      "Forma de y: (334,)\n",
      "\n",
      "Primeras filas de X:\n",
      "   culmen_length_mm  culmen_depth_mm  flipper_length_mm  body_mass_g\n",
      "0              39.1             18.7              181.0       3750.0\n",
      "1              39.5             17.4              186.0       3800.0\n",
      "2              40.3             18.0              195.0       3250.0\n",
      "4              36.7             19.3              193.0       3450.0\n",
      "5              39.3             20.6              190.0       3650.0\n"
     ]
    }
   ],
   "source": [
    "from sklearn.preprocessing import LabelEncoder\n",
    "le = LabelEncoder()\n",
    "y = le.fit_transform(cleaned_penguins['species'])  # Convertir especies a valores numéricos\n",
    "\n",
    "# Definir X excluyendo cualquier columna no numérica que haya quedado\n",
    "X = numeric_penguins\n",
    "\n",
    "# Verificar formas finales\n",
    "print(\"\\nForma de X:\", X.shape)\n",
    "print(\"Forma de y:\", y.shape)\n",
    "print(\"\\nPrimeras filas de X:\")\n",
    "print(X.head())"
   ]
  },
  {
   "cell_type": "markdown",
   "metadata": {},
   "source": [
    "## **[18]** Entrene el modelo de predicción mediante Regresión Logística"
   ]
  },
  {
   "cell_type": "code",
   "execution_count": 401,
   "metadata": {
    "tags": []
   },
   "outputs": [
    {
     "name": "stdout",
     "output_type": "stream",
     "text": [
      "Modelo de regresión logística entrenado exitosamente!\n",
      "Precisión en entrenamiento: 0.99\n"
     ]
    }
   ],
   "source": [
    "from sklearn.linear_model import LogisticRegression\n",
    "from sklearn.preprocessing import StandardScaler\n",
    "from sklearn.pipeline import make_pipeline\n",
    "\n",
    "# Crear pipeline con escalado y modelo\n",
    "model = make_pipeline(\n",
    "    StandardScaler(),  # Escalar características para mejor rendimiento\n",
    "    LogisticRegression(\n",
    "        multi_class='multinomial',  # Para clasificación multiclase (3 especies)\n",
    "        max_iter=1000,             # Asegurar convergencia\n",
    "        random_state=42,           # Reproducibilidad\n",
    "        solver='lbfgs'             # Algoritmo adecuado para problemas multiclase\n",
    "    )\n",
    ")\n",
    "\n",
    "# Entrenar el modelo\n",
    "model.fit(X, y)\n",
    "\n",
    "print(\"Modelo de regresión logística entrenado exitosamente!\")\n",
    "print(f\"Precisión en entrenamiento: {model.score(X, y):.2f}\")"
   ]
  },
  {
   "cell_type": "markdown",
   "metadata": {},
   "source": [
    "## **[19]** Calcule el *score* de su modelo"
   ]
  },
  {
   "cell_type": "code",
   "execution_count": 402,
   "metadata": {
    "tags": []
   },
   "outputs": [
    {
     "name": "stdout",
     "output_type": "stream",
     "text": [
      "\n",
      "Precisión en entrenamiento: 0.9910\n",
      "Precisión en validación cruzada: 0.9910 (±0.0119)\n",
      "\n",
      "El score obtenido por el modelo es 0.9910\n"
     ]
    }
   ],
   "source": [
    "from sklearn.model_selection import cross_val_score\n",
    "\n",
    "# 1. Calcular precisión en los datos de entrenamiento (para referencia)\n",
    "train_accuracy = model.score(X, y)\n",
    "\n",
    "# 2. Evaluación más robusta con validación cruzada (5 folds)\n",
    "cv_scores = cross_val_score(model, X, y, cv=5, scoring='accuracy')\n",
    "\n",
    "print(f\"\\nPrecisión en entrenamiento: {train_accuracy:.4f}\")\n",
    "print(f\"Precisión en validación cruzada: {cv_scores.mean():.4f} (±{cv_scores.std():.4f})\")\n",
    "\n",
    "print(f'\\nEl score obtenido por el modelo es {model.score(X, y):.4f}')"
   ]
  },
  {
   "cell_type": "code",
   "execution_count": 403,
   "metadata": {},
   "outputs": [
    {
     "name": "stdout",
     "output_type": "stream",
     "text": [
      "\n",
      "Reporte de clasificación completo:\n",
      "              precision    recall  f1-score   support\n",
      "\n",
      "      Adelie       0.99      0.99      0.99       146\n",
      "   Chinstrap       0.99      0.97      0.98        68\n",
      "      Gentoo       1.00      1.00      1.00       120\n",
      "\n",
      "    accuracy                           0.99       334\n",
      "   macro avg       0.99      0.99      0.99       334\n",
      "weighted avg       0.99      0.99      0.99       334\n",
      "\n"
     ]
    }
   ],
   "source": [
    "from sklearn.metrics import classification_report\n",
    "\n",
    "# Predecir en todos los datos (o usar X_test si disponible)\n",
    "y_pred = model.predict(X)\n",
    "\n",
    "print(\"\\nReporte de clasificación completo:\")\n",
    "print(classification_report(y, y_pred, target_names=le.classes_))"
   ]
  },
  {
   "cell_type": "markdown",
   "metadata": {},
   "source": [
    "## **[20]** Imprima las predicciones de categorías para las instancias usadas para el entrenamiento"
   ]
  },
  {
   "cell_type": "code",
   "execution_count": 404,
   "metadata": {
    "tags": []
   },
   "outputs": [
    {
     "name": "stdout",
     "output_type": "stream",
     "text": [
      "Predicciones para las instancias de entrenamiento:\n",
      "   Instancia Especie Real Especie Predicha  Correcto\n",
      "0          0       Adelie           Adelie      True\n",
      "1          1       Adelie           Adelie      True\n",
      "2          2       Adelie           Adelie      True\n",
      "3          4       Adelie           Adelie      True\n",
      "4          5       Adelie           Adelie      True\n",
      "5          6       Adelie           Adelie      True\n",
      "6          7       Adelie           Adelie      True\n",
      "7         12       Adelie           Adelie      True\n",
      "8         13       Adelie           Adelie      True\n",
      "9         14       Adelie           Adelie      True\n",
      "\n",
      "Precisión global en entrenamiento: 99.10%\n"
     ]
    }
   ],
   "source": [
    "# Obtener las predicciones para los datos de entrenamiento\n",
    "y_train_pred = model.predict(X)\n",
    "\n",
    "# Convertir los números de categoría a nombres de especies\n",
    "species_pred = le.inverse_transform(y_train_pred)\n",
    "\n",
    "# Crear un DataFrame con los resultados\n",
    "results = pd.DataFrame({\n",
    "    'Instancia': X.index,\n",
    "    'Especie Real': le.inverse_transform(y),\n",
    "    'Especie Predicha': species_pred,\n",
    "    'Correcto': (y == y_train_pred)\n",
    "})\n",
    "\n",
    "# Mostrar las primeras 10 predicciones\n",
    "print(\"Predicciones para las instancias de entrenamiento:\")\n",
    "print(results.head(10))\n",
    "\n",
    "# Calcular y mostrar la precisión global\n",
    "accuracy = results['Correcto'].mean()\n",
    "print(f\"\\nPrecisión global en entrenamiento: {accuracy:.2%}\")"
   ]
  },
  {
   "cell_type": "code",
   "execution_count": 405,
   "metadata": {},
   "outputs": [
    {
     "name": "stdout",
     "output_type": "stream",
     "text": [
      "\n",
      "Predicciones incorrectas:\n",
      "     Instancia Especie Real Especie Predicha  Correcto\n",
      "67          73       Adelie        Chinstrap     False\n",
      "166        172    Chinstrap           Adelie     False\n",
      "176        182    Chinstrap           Adelie     False\n"
     ]
    }
   ],
   "source": [
    "incorrect = results[results['Correcto'] == False]\n",
    "print(\"\\nPredicciones incorrectas:\")\n",
    "print(incorrect)"
   ]
  },
  {
   "cell_type": "markdown",
   "metadata": {},
   "source": [
    "<div class=\"alert alert-info\", role=\"success\">\n",
    "    <h1 style=\"font-size: 2em;\">Convierta las variables categóricas Sex e Isla a un formato numérico y entrene un nuevo clasificador para la especie del pinguino </h1>\n",
    "</div>\n"
   ]
  },
  {
   "cell_type": "markdown",
   "metadata": {},
   "source": [
    "## **[21]** Cargue el Dataset y separe las secuencias X & Y para el entrenamiento."
   ]
  },
  {
   "cell_type": "code",
   "execution_count": 406,
   "metadata": {
    "tags": []
   },
   "outputs": [
    {
     "name": "stdout",
     "output_type": "stream",
     "text": [
      "Dataset cargado con 334 filas después de limpieza\n"
     ]
    }
   ],
   "source": [
    "# Cargar el dataset\n",
    "penguins = pd.read_csv(\"penguins_size.csv\")\n",
    "\n",
    "# Eliminar filas con valores NaN y la columna 'year' si existe\n",
    "cleaned_penguins = penguins.dropna().drop(columns=['year'], errors='ignore')\n",
    "\n",
    "print(f\"Dataset cargado con {len(cleaned_penguins)} filas después de limpieza\")"
   ]
  },
  {
   "cell_type": "code",
   "execution_count": 407,
   "metadata": {},
   "outputs": [
    {
     "name": "stdout",
     "output_type": "stream",
     "text": [
      "\n",
      "Columnas numéricas seleccionadas para X:\n",
      "['culmen_length_mm', 'culmen_depth_mm', 'flipper_length_mm', 'body_mass_g']\n",
      "\n",
      "Variable objetivo y (sin codificar):\n",
      "0    Adelie\n",
      "1    Adelie\n",
      "2    Adelie\n",
      "4    Adelie\n",
      "5    Adelie\n",
      "Name: species, dtype: object\n"
     ]
    }
   ],
   "source": [
    "# Seleccionar solo columnas numéricas para X (excluyendo categóricas)\n",
    "numeric_cols = cleaned_penguins.select_dtypes(include=['float64', 'int64']).columns\n",
    "X = cleaned_penguins[numeric_cols]\n",
    "\n",
    "# Mantener la columna 'species' como Y (sin codificar aún)\n",
    "y = cleaned_penguins['species']\n",
    "\n",
    "print(\"\\nColumnas numéricas seleccionadas para X:\")\n",
    "print(X.columns.tolist())\n",
    "print(\"\\nVariable objetivo y (sin codificar):\")\n",
    "print(y.head())"
   ]
  },
  {
   "cell_type": "markdown",
   "metadata": {},
   "source": [
    "## **[22]** Aplique el LabelEncoder"
   ]
  },
  {
   "cell_type": "code",
   "execution_count": 408,
   "metadata": {
    "tags": []
   },
   "outputs": [
    {
     "name": "stdout",
     "output_type": "stream",
     "text": [
      "\n",
      "Mapeo de categorías a valores numéricos:\n",
      "Sexo: {'.': 0, 'FEMALE': 1, 'MALE': 2}\n",
      "Isla: {'Biscoe': 0, 'Dream': 1, 'Torgersen': 2}\n",
      "Especie: {'Adelie': 0, 'Chinstrap': 1, 'Gentoo': 2}\n"
     ]
    }
   ],
   "source": [
    "# Crear instancias separadas de LabelEncoder para cada variable\n",
    "le_sex = LabelEncoder()\n",
    "le_island = LabelEncoder()\n",
    "le_species = LabelEncoder()\n",
    "\n",
    "# Aplicar a cada columna categórica (creando nuevas columnas codificadas)\n",
    "cleaned_penguins['sex_encoded'] = le_sex.fit_transform(cleaned_penguins['sex'])\n",
    "cleaned_penguins['island_encoded'] = le_island.fit_transform(cleaned_penguins['island'])\n",
    "cleaned_penguins['species_encoded'] = le_species.fit_transform(cleaned_penguins['species'])\n",
    "\n",
    "# Mostrar mapeo de categorías\n",
    "print(\"\\nMapeo de categorías a valores numéricos:\")\n",
    "print(\"Sexo:\", dict(zip(le_sex.classes_, le_sex.transform(le_sex.classes_))))\n",
    "print(\"Isla:\", dict(zip(le_island.classes_, le_island.transform(le_island.classes_))))\n",
    "print(\"Especie:\", dict(zip(le_species.classes_, le_species.transform(le_species.classes_))))"
   ]
  },
  {
   "cell_type": "code",
   "execution_count": 409,
   "metadata": {},
   "outputs": [
    {
     "name": "stdout",
     "output_type": "stream",
     "text": [
      "\n",
      "Dataset con variables codificadas (primeras 5 filas):\n",
      "      sex  sex_encoded     island  island_encoded species  species_encoded\n",
      "0    MALE            2  Torgersen               2  Adelie                0\n",
      "1  FEMALE            1  Torgersen               2  Adelie                0\n",
      "2  FEMALE            1  Torgersen               2  Adelie                0\n",
      "4  FEMALE            1  Torgersen               2  Adelie                0\n",
      "5    MALE            2  Torgersen               2  Adelie                0\n"
     ]
    }
   ],
   "source": [
    "print(\"\\nDataset con variables codificadas (primeras 5 filas):\")\n",
    "print(cleaned_penguins[['sex', 'sex_encoded', 'island', 'island_encoded', 'species', 'species_encoded']].head())"
   ]
  },
  {
   "cell_type": "markdown",
   "metadata": {},
   "source": [
    "## **[23]** Entrene el modelo de predicción mediante Regresión Logística para toda la data"
   ]
  },
  {
   "cell_type": "code",
   "execution_count": null,
   "metadata": {},
   "outputs": [
    {
     "name": "stdout",
     "output_type": "stream",
     "text": [
      "Dimensiones de X e Y para entrenamiento completo:\n",
      "X shape: (334, 6)\n",
      "y shape: (334,)\n",
      "\n",
      "Precisión del modelo entrenado con TODA la data: 0.9940\n",
      "Esto significa que clasifica correctamente el 99.40% de los pingüinos\n",
      "\n",
      "El score obtenido por el modelo es 0.9940\n"
     ]
    }
   ],
   "source": [
    "from sklearn.linear_model import LogisticRegression\n",
    "from sklearn.preprocessing import StandardScaler\n",
    "from sklearn.pipeline import make_pipeline\n",
    "\n",
    "# Preparar X e Y con TODAS las variables numéricas (originales + codificadas)\n",
    "X_all = cleaned_penguins[['culmen_length_mm', 'culmen_depth_mm', \n",
    "                         'flipper_length_mm', 'body_mass_g',\n",
    "                         'sex_encoded', 'island_encoded']]\n",
    "\n",
    "y_all = cleaned_penguins['species_encoded']\n",
    "\n",
    "print(\"Dimensiones de X e Y para entrenamiento completo:\")\n",
    "print(f\"X shape: {X_all.shape}\")\n",
    "print(f\"y shape: {y_all.shape}\")\n",
    "\n",
    "# Crear y entrenar el modelo con TODOS los datos\n",
    "model_all = make_pipeline(\n",
    "    StandardScaler(),\n",
    "    LogisticRegression(\n",
    "        multi_class='multinomial',\n",
    "        max_iter=1000,\n",
    "        random_state=42,\n",
    "        solver='lbfgs'\n",
    "    )\n",
    ")\n",
    "\n",
    "# Entrenar el modelo con TODA la data\n",
    "model_all.fit(X_all, y_all)\n",
    "\n"
   ]
  },
  {
   "cell_type": "markdown",
   "metadata": {},
   "source": [
    "## **[24]** Calcule el *score* de su modelo"
   ]
  },
  {
   "cell_type": "code",
   "execution_count": 431,
   "metadata": {},
   "outputs": [
    {
     "name": "stdout",
     "output_type": "stream",
     "text": [
      "\n",
      "Precisión del modelo entrenado con TODA la data: 0.9940\n",
      "Esto significa que clasifica correctamente el 99.40% de los pingüinos\n",
      "\n",
      "El score obtenido por el modelo es 0.9940\n"
     ]
    }
   ],
   "source": [
    "# Calcular el score (precisión) en TODOS los datos\n",
    "accuracy_all = model_all.score(X_all, y_all)\n",
    "\n",
    "print(f\"\\nPrecisión del modelo entrenado con TODA la data: {accuracy_all:.4f}\")\n",
    "print(f\"Esto significa que clasifica correctamente el {accuracy_all:.2%} de los pingüinos\")\n",
    "\n",
    "# CALCULAR EL SCORE \n",
    "print(f'\\nEl score obtenido por el modelo es {model_all.score(X_all, y_all):.4f}')"
   ]
  },
  {
   "cell_type": "markdown",
   "metadata": {
    "tags": []
   },
   "source": [
    "## **[25]** Divida esta secuencia anterior en Train/Test "
   ]
  },
  {
   "cell_type": "code",
   "execution_count": 434,
   "metadata": {},
   "outputs": [
    {
     "name": "stdout",
     "output_type": "stream",
     "text": [
      "Division completada:\n",
      "X_train: (267, 6), y_train: (267,)\n",
      "X_test: (67, 6), y_test: (67,)\n"
     ]
    }
   ],
   "source": [
    "penguins = pd.read_csv(\"penguins_size.csv\")\n",
    "cleaned_penguins = penguins.dropna().drop(columns=['year'], errors='ignore')\n",
    "\n",
    "# 2. Aplicar LabelEncoder a variables categóricas\n",
    "le_sex = LabelEncoder()\n",
    "le_island = LabelEncoder()\n",
    "le_species = LabelEncoder()\n",
    "\n",
    "cleaned_penguins['sex_encoded'] = le_sex.fit_transform(cleaned_penguins['sex'])\n",
    "cleaned_penguins['island_encoded'] = le_island.fit_transform(cleaned_penguins['island'])\n",
    "cleaned_penguins['species_encoded'] = le_species.fit_transform(cleaned_penguins['species'])\n",
    "\n",
    "# 3. Preparar X e Y\n",
    "X = cleaned_penguins[['culmen_length_mm', 'culmen_depth_mm', \n",
    "                     'flipper_length_mm', 'body_mass_g',\n",
    "                     'sex_encoded', 'island_encoded']]\n",
    "\n",
    "y = cleaned_penguins['species_encoded']\n",
    "\n",
    "# 4. Dividir en Train/Test\n",
    "from sklearn.model_selection import train_test_split\n",
    "\n",
    "X_train, X_test, y_train, y_test = train_test_split(\n",
    "    X, y, \n",
    "    test_size=0.2, \n",
    "    random_state=42,\n",
    "    stratify=y\n",
    ")\n",
    "\n",
    "print(\"Division completada:\")\n",
    "print(f\"X_train: {X_train.shape}, y_train: {y_train.shape}\")\n",
    "print(f\"X_test: {X_test.shape}, y_test: {y_test.shape}\")"
   ]
  },
  {
   "cell_type": "markdown",
   "metadata": {},
   "source": [
    "## **[26]** Entrene el modelo de predicción mediante Regresión Logística"
   ]
  },
  {
   "cell_type": "code",
   "execution_count": null,
   "metadata": {
    "tags": []
   },
   "outputs": [
    {
     "data": {
      "text/html": [
       "<style>#sk-container-id-26 {color: black;background-color: white;}#sk-container-id-26 pre{padding: 0;}#sk-container-id-26 div.sk-toggleable {background-color: white;}#sk-container-id-26 label.sk-toggleable__label {cursor: pointer;display: block;width: 100%;margin-bottom: 0;padding: 0.3em;box-sizing: border-box;text-align: center;}#sk-container-id-26 label.sk-toggleable__label-arrow:before {content: \"▸\";float: left;margin-right: 0.25em;color: #696969;}#sk-container-id-26 label.sk-toggleable__label-arrow:hover:before {color: black;}#sk-container-id-26 div.sk-estimator:hover label.sk-toggleable__label-arrow:before {color: black;}#sk-container-id-26 div.sk-toggleable__content {max-height: 0;max-width: 0;overflow: hidden;text-align: left;background-color: #f0f8ff;}#sk-container-id-26 div.sk-toggleable__content pre {margin: 0.2em;color: black;border-radius: 0.25em;background-color: #f0f8ff;}#sk-container-id-26 input.sk-toggleable__control:checked~div.sk-toggleable__content {max-height: 200px;max-width: 100%;overflow: auto;}#sk-container-id-26 input.sk-toggleable__control:checked~label.sk-toggleable__label-arrow:before {content: \"▾\";}#sk-container-id-26 div.sk-estimator input.sk-toggleable__control:checked~label.sk-toggleable__label {background-color: #d4ebff;}#sk-container-id-26 div.sk-label input.sk-toggleable__control:checked~label.sk-toggleable__label {background-color: #d4ebff;}#sk-container-id-26 input.sk-hidden--visually {border: 0;clip: rect(1px 1px 1px 1px);clip: rect(1px, 1px, 1px, 1px);height: 1px;margin: -1px;overflow: hidden;padding: 0;position: absolute;width: 1px;}#sk-container-id-26 div.sk-estimator {font-family: monospace;background-color: #f0f8ff;border: 1px dotted black;border-radius: 0.25em;box-sizing: border-box;margin-bottom: 0.5em;}#sk-container-id-26 div.sk-estimator:hover {background-color: #d4ebff;}#sk-container-id-26 div.sk-parallel-item::after {content: \"\";width: 100%;border-bottom: 1px solid gray;flex-grow: 1;}#sk-container-id-26 div.sk-label:hover label.sk-toggleable__label {background-color: #d4ebff;}#sk-container-id-26 div.sk-serial::before {content: \"\";position: absolute;border-left: 1px solid gray;box-sizing: border-box;top: 0;bottom: 0;left: 50%;z-index: 0;}#sk-container-id-26 div.sk-serial {display: flex;flex-direction: column;align-items: center;background-color: white;padding-right: 0.2em;padding-left: 0.2em;position: relative;}#sk-container-id-26 div.sk-item {position: relative;z-index: 1;}#sk-container-id-26 div.sk-parallel {display: flex;align-items: stretch;justify-content: center;background-color: white;position: relative;}#sk-container-id-26 div.sk-item::before, #sk-container-id-26 div.sk-parallel-item::before {content: \"\";position: absolute;border-left: 1px solid gray;box-sizing: border-box;top: 0;bottom: 0;left: 50%;z-index: -1;}#sk-container-id-26 div.sk-parallel-item {display: flex;flex-direction: column;z-index: 1;position: relative;background-color: white;}#sk-container-id-26 div.sk-parallel-item:first-child::after {align-self: flex-end;width: 50%;}#sk-container-id-26 div.sk-parallel-item:last-child::after {align-self: flex-start;width: 50%;}#sk-container-id-26 div.sk-parallel-item:only-child::after {width: 0;}#sk-container-id-26 div.sk-dashed-wrapped {border: 1px dashed gray;margin: 0 0.4em 0.5em 0.4em;box-sizing: border-box;padding-bottom: 0.4em;background-color: white;}#sk-container-id-26 div.sk-label label {font-family: monospace;font-weight: bold;display: inline-block;line-height: 1.2em;}#sk-container-id-26 div.sk-label-container {text-align: center;}#sk-container-id-26 div.sk-container {/* jupyter's `normalize.less` sets `[hidden] { display: none; }` but bootstrap.min.css set `[hidden] { display: none !important; }` so we also need the `!important` here to be able to override the default hidden behavior on the sphinx rendered scikit-learn.org. See: https://github.com/scikit-learn/scikit-learn/issues/21755 */display: inline-block !important;position: relative;}#sk-container-id-26 div.sk-text-repr-fallback {display: none;}</style><div id=\"sk-container-id-26\" class=\"sk-top-container\"><div class=\"sk-text-repr-fallback\"><pre>Pipeline(steps=[(&#x27;standardscaler&#x27;, StandardScaler()),\n",
       "                (&#x27;logisticregression&#x27;,\n",
       "                 LogisticRegression(max_iter=1000, multi_class=&#x27;multinomial&#x27;,\n",
       "                                    random_state=42))])</pre><b>In a Jupyter environment, please rerun this cell to show the HTML representation or trust the notebook. <br />On GitHub, the HTML representation is unable to render, please try loading this page with nbviewer.org.</b></div><div class=\"sk-container\" hidden><div class=\"sk-item sk-dashed-wrapped\"><div class=\"sk-label-container\"><div class=\"sk-label sk-toggleable\"><input class=\"sk-toggleable__control sk-hidden--visually\" id=\"sk-estimator-id-36\" type=\"checkbox\" ><label for=\"sk-estimator-id-36\" class=\"sk-toggleable__label sk-toggleable__label-arrow\">Pipeline</label><div class=\"sk-toggleable__content\"><pre>Pipeline(steps=[(&#x27;standardscaler&#x27;, StandardScaler()),\n",
       "                (&#x27;logisticregression&#x27;,\n",
       "                 LogisticRegression(max_iter=1000, multi_class=&#x27;multinomial&#x27;,\n",
       "                                    random_state=42))])</pre></div></div></div><div class=\"sk-serial\"><div class=\"sk-item\"><div class=\"sk-estimator sk-toggleable\"><input class=\"sk-toggleable__control sk-hidden--visually\" id=\"sk-estimator-id-37\" type=\"checkbox\" ><label for=\"sk-estimator-id-37\" class=\"sk-toggleable__label sk-toggleable__label-arrow\">StandardScaler</label><div class=\"sk-toggleable__content\"><pre>StandardScaler()</pre></div></div></div><div class=\"sk-item\"><div class=\"sk-estimator sk-toggleable\"><input class=\"sk-toggleable__control sk-hidden--visually\" id=\"sk-estimator-id-38\" type=\"checkbox\" ><label for=\"sk-estimator-id-38\" class=\"sk-toggleable__label sk-toggleable__label-arrow\">LogisticRegression</label><div class=\"sk-toggleable__content\"><pre>LogisticRegression(max_iter=1000, multi_class=&#x27;multinomial&#x27;, random_state=42)</pre></div></div></div></div></div></div></div>"
      ],
      "text/plain": [
       "Pipeline(steps=[('standardscaler', StandardScaler()),\n",
       "                ('logisticregression',\n",
       "                 LogisticRegression(max_iter=1000, multi_class='multinomial',\n",
       "                                    random_state=42))])"
      ]
     },
     "execution_count": 438,
     "metadata": {},
     "output_type": "execute_result"
    }
   ],
   "source": [
    "from sklearn.linear_model import LogisticRegression\n",
    "from sklearn.preprocessing import StandardScaler\n",
    "from sklearn.pipeline import make_pipeline\n",
    "\n",
    "# Crear pipeline con escalado y modelo de regresión logística\n",
    "model = make_pipeline(\n",
    "    StandardScaler(),\n",
    "    LogisticRegression(\n",
    "        multi_class='multinomial',  # Para clasificación multiclase (3 especies)\n",
    "        max_iter=1000,              # Asegurar convergencia\n",
    "        random_state=42,\n",
    "        solver='lbfgs'              # Algoritmo adecuado para multiclase\n",
    "    )\n",
    ")\n",
    "# Entrenar el modelo con los datos de entrenamiento\n",
    "model.fit(X_train, y_train)"
   ]
  },
  {
   "cell_type": "markdown",
   "metadata": {},
   "source": [
    "## **[27]** Calcule el *score* de su modelo "
   ]
  },
  {
   "cell_type": "code",
   "execution_count": 437,
   "metadata": {
    "tags": []
   },
   "outputs": [
    {
     "name": "stdout",
     "output_type": "stream",
     "text": [
      "Precisión en entrenamiento: 0.9963\n",
      "Precisión en prueba: 1.0000\n",
      "\n",
      "El score obtenido por el modelo es 1.0000\n"
     ]
    }
   ],
   "source": [
    "# Calcular scores en train y test\n",
    "train_score = model.score(X_train, y_train)\n",
    "test_score = model.score(X_test, y_test)\n",
    "\n",
    "print(f\"Precisión en entrenamiento: {train_score:.4f}\")\n",
    "print(f\"Precisión en prueba: {test_score:.4f}\")\n",
    "\n",
    "# CALCULAR EL SCORE \n",
    "print(f'\\nEl score obtenido por el modelo es {model.score(X_test, y_test):.4f}')"
   ]
  },
  {
   "cell_type": "markdown",
   "metadata": {},
   "source": [
    "## **[28]** Genere la matriz de confusión de los datos de test "
   ]
  },
  {
   "cell_type": "code",
   "execution_count": 439,
   "metadata": {
    "tags": []
   },
   "outputs": [
    {
     "data": {
      "image/png": "[encoded data removed]",
      "text/plain": [
       "<Figure size 800x600 with 2 Axes>"
      ]
     },
     "metadata": {},
     "output_type": "display_data"
    },
    {
     "name": "stdout",
     "output_type": "stream",
     "text": [
      "Matriz de Confusión:\n",
      "[[29  0  0]\n",
      " [ 0 14  0]\n",
      " [ 0  0 24]]\n",
      "\n",
      "Leyenda:\n",
      "0: Adelie\n",
      "1: Chinstrap\n",
      "2: Gentoo\n"
     ]
    }
   ],
   "source": [
    "from sklearn.metrics import confusion_matrix\n",
    "import seaborn as sns\n",
    "import matplotlib.pyplot as plt\n",
    "\n",
    "# Predecir las clases para los datos de test\n",
    "y_pred = model.predict(X_test)\n",
    "\n",
    "# Generar la matriz de confusión\n",
    "cm = confusion_matrix(y_test, y_pred)\n",
    "\n",
    "# Crear visualización de la matriz de confusión\n",
    "plt.figure(figsize=(8, 6))\n",
    "sns.heatmap(cm, annot=True, fmt='d', cmap='Blues', \n",
    "            xticklabels=le_species.classes_, \n",
    "            yticklabels=le_species.classes_)\n",
    "plt.title('Matriz de Confusión - Datos de Test')\n",
    "plt.xlabel('Predicción')\n",
    "plt.ylabel('Valor Real')\n",
    "plt.show()\n",
    "\n",
    "# Mostrar también la matriz en formato numérico\n",
    "print(\"Matriz de Confusión:\")\n",
    "print(cm)\n",
    "print(\"\\nLeyenda:\")\n",
    "for i, especie in enumerate(le_species.classes_):\n",
    "    print(f\"{i}: {especie}\")"
   ]
  },
  {
   "cell_type": "markdown",
   "metadata": {},
   "source": [
    "<div class=\"alert alert-info\", role=\"success\">\n",
    "    <h1 style=\"font-size: 2em;\">Entrene un modelo de clasificación para el atributo <strong>cut</strong> del dataset Diamonds.</h1>\n",
    "</div>"
   ]
  },
  {
   "cell_type": "markdown",
   "metadata": {},
   "source": [
    "## **[29]** Cargue el dataset y elimine los NaNs de ser necesario"
   ]
  },
  {
   "cell_type": "code",
   "execution_count": 415,
   "metadata": {
    "tags": []
   },
   "outputs": [
    {
     "data": {
      "text/html": [
       "<div>\n",
       "<style scoped>\n",
       "    .dataframe tbody tr th:only-of-type {\n",
       "        vertical-align: middle;\n",
       "    }\n",
       "\n",
       "    .dataframe tbody tr th {\n",
       "        vertical-align: top;\n",
       "    }\n",
       "\n",
       "    .dataframe thead th {\n",
       "        text-align: right;\n",
       "    }\n",
       "</style>\n",
       "<table border=\"1\" class=\"dataframe\">\n",
       "  <thead>\n",
       "    <tr style=\"text-align: right;\">\n",
       "      <th></th>\n",
       "      <th>carat</th>\n",
       "      <th>cut</th>\n",
       "      <th>color</th>\n",
       "      <th>clarity</th>\n",
       "      <th>depth</th>\n",
       "      <th>table</th>\n",
       "      <th>price</th>\n",
       "      <th>x</th>\n",
       "      <th>y</th>\n",
       "      <th>z</th>\n",
       "    </tr>\n",
       "  </thead>\n",
       "  <tbody>\n",
       "    <tr>\n",
       "      <th>0</th>\n",
       "      <td>0.23</td>\n",
       "      <td>Ideal</td>\n",
       "      <td>E</td>\n",
       "      <td>SI2</td>\n",
       "      <td>61.5</td>\n",
       "      <td>55.0</td>\n",
       "      <td>326</td>\n",
       "      <td>3.95</td>\n",
       "      <td>3.98</td>\n",
       "      <td>2.43</td>\n",
       "    </tr>\n",
       "    <tr>\n",
       "      <th>1</th>\n",
       "      <td>0.21</td>\n",
       "      <td>Premium</td>\n",
       "      <td>E</td>\n",
       "      <td>SI1</td>\n",
       "      <td>59.8</td>\n",
       "      <td>61.0</td>\n",
       "      <td>326</td>\n",
       "      <td>3.89</td>\n",
       "      <td>3.84</td>\n",
       "      <td>2.31</td>\n",
       "    </tr>\n",
       "    <tr>\n",
       "      <th>2</th>\n",
       "      <td>0.23</td>\n",
       "      <td>Good</td>\n",
       "      <td>E</td>\n",
       "      <td>VS1</td>\n",
       "      <td>56.9</td>\n",
       "      <td>65.0</td>\n",
       "      <td>327</td>\n",
       "      <td>4.05</td>\n",
       "      <td>4.07</td>\n",
       "      <td>2.31</td>\n",
       "    </tr>\n",
       "    <tr>\n",
       "      <th>3</th>\n",
       "      <td>0.29</td>\n",
       "      <td>Premium</td>\n",
       "      <td>I</td>\n",
       "      <td>VS2</td>\n",
       "      <td>62.4</td>\n",
       "      <td>58.0</td>\n",
       "      <td>334</td>\n",
       "      <td>4.20</td>\n",
       "      <td>4.23</td>\n",
       "      <td>2.63</td>\n",
       "    </tr>\n",
       "    <tr>\n",
       "      <th>4</th>\n",
       "      <td>0.31</td>\n",
       "      <td>Good</td>\n",
       "      <td>J</td>\n",
       "      <td>SI2</td>\n",
       "      <td>63.3</td>\n",
       "      <td>58.0</td>\n",
       "      <td>335</td>\n",
       "      <td>4.34</td>\n",
       "      <td>4.35</td>\n",
       "      <td>2.75</td>\n",
       "    </tr>\n",
       "  </tbody>\n",
       "</table>\n",
       "</div>"
      ],
      "text/plain": [
       "   carat      cut color clarity  depth  table  price     x     y     z\n",
       "0   0.23    Ideal     E     SI2   61.5   55.0    326  3.95  3.98  2.43\n",
       "1   0.21  Premium     E     SI1   59.8   61.0    326  3.89  3.84  2.31\n",
       "2   0.23     Good     E     VS1   56.9   65.0    327  4.05  4.07  2.31\n",
       "3   0.29  Premium     I     VS2   62.4   58.0    334  4.20  4.23  2.63\n",
       "4   0.31     Good     J     SI2   63.3   58.0    335  4.34  4.35  2.75"
      ]
     },
     "execution_count": 415,
     "metadata": {},
     "output_type": "execute_result"
    }
   ],
   "source": [
    "import seaborn as sns\n",
    "data = sns.load_dataset('diamonds')\n",
    "data.head()"
   ]
  },
  {
   "cell_type": "code",
   "execution_count": 416,
   "metadata": {},
   "outputs": [
    {
     "name": "stdout",
     "output_type": "stream",
     "text": [
      "Valores NaN por columna:\n",
      "carat      0\n",
      "cut        0\n",
      "color      0\n",
      "clarity    0\n",
      "depth      0\n",
      "table      0\n",
      "price      0\n",
      "x          0\n",
      "y          0\n",
      "z          0\n",
      "dtype: int64\n"
     ]
    }
   ],
   "source": [
    "print(\"Valores NaN por columna:\")\n",
    "print(data.isna().sum())"
   ]
  },
  {
   "cell_type": "code",
   "execution_count": 417,
   "metadata": {},
   "outputs": [
    {
     "name": "stdout",
     "output_type": "stream",
     "text": [
      "Columnas numéricas seleccionadas:\n",
      "['carat', 'depth', 'table', 'price', 'x', 'y', 'z']\n"
     ]
    }
   ],
   "source": [
    "numeric_data = data.select_dtypes(include=['float64', 'int64'])\n",
    "print(\"Columnas numéricas seleccionadas:\")\n",
    "print(numeric_data.columns.tolist())"
   ]
  },
  {
   "cell_type": "markdown",
   "metadata": {},
   "source": [
    "## **[30]** Genere las secuencias X & Y para entrenar el modelo"
   ]
  },
  {
   "cell_type": "code",
   "execution_count": 418,
   "metadata": {
    "tags": []
   },
   "outputs": [
    {
     "name": "stdout",
     "output_type": "stream",
     "text": [
      "\n",
      "Forma de X: (53940, 6)\n",
      "Forma de y: (53940,)\n"
     ]
    }
   ],
   "source": [
    "# Definir X e y\n",
    "X = numeric_data.drop(columns=['price'])  # Matriz de características\n",
    "y = numeric_data['price']                 # Vector objetivo\n",
    "\n",
    "# Verificar formas\n",
    "print(\"\\nForma de X:\", X.shape) \n",
    "print(\"Forma de y:\", y.shape)    \n",
    "\n",
    "from sklearn.model_selection import train_test_split"
   ]
  },
  {
   "cell_type": "markdown",
   "metadata": {},
   "source": [
    "## **[31]** Aplique el LabelEncoder"
   ]
  },
  {
   "cell_type": "code",
   "execution_count": 419,
   "metadata": {
    "tags": []
   },
   "outputs": [
    {
     "name": "stdout",
     "output_type": "stream",
     "text": [
      "Columnas categóricas a codificar: []\n",
      "\n",
      "Dataset después de codificación:\n",
      "   carat  depth  table     x     y     z\n",
      "0   0.23   61.5   55.0  3.95  3.98  2.43\n",
      "1   0.21   59.8   61.0  3.89  3.84  2.31\n",
      "2   0.23   56.9   65.0  4.05  4.07  2.31\n",
      "3   0.29   62.4   58.0  4.20  4.23  2.63\n",
      "4   0.31   63.3   58.0  4.34  4.35  2.75\n"
     ]
    }
   ],
   "source": [
    "# Identificar columnas categóricas en X\n",
    "categorical_cols = X.select_dtypes(include=['object', 'category']).columns.tolist()\n",
    "print(\"Columnas categóricas a codificar:\", categorical_cols)\n",
    "\n",
    "# Aplicar LabelEncoder a cada columna categórica\n",
    "label_encoders = {}\n",
    "for col in categorical_cols:\n",
    "    le = LabelEncoder()\n",
    "    X[col] = le.fit_transform(X[col])\n",
    "    label_encoders[col] = le  # Guardar el encoder para referencia\n",
    "    \n",
    "    # Mostrar mapeo de categorías\n",
    "    print(f\"\\nCodificación para {col}:\")\n",
    "    print(dict(zip(le.classes_, le.transform(le.classes_))))\n",
    "\n",
    "# Verificar resultado\n",
    "print(\"\\nDataset después de codificación:\")\n",
    "print(X.head())"
   ]
  },
  {
   "cell_type": "markdown",
   "metadata": {},
   "source": [
    "## **[32]** Divida el dataset en conjunto de Train y Test"
   ]
  },
  {
   "cell_type": "code",
   "execution_count": 420,
   "metadata": {
    "tags": []
   },
   "outputs": [
    {
     "name": "stdout",
     "output_type": "stream",
     "text": [
      "\n",
      "Division creada:\n",
      "Train shapes - X: (37758, 6), y: (37758,)\n",
      "Test shapes - X: (16182, 6), y: (16182,)\n"
     ]
    }
   ],
   "source": [
    "X_train, X_test, y_train, y_test = train_test_split(\n",
    "    X, y,\n",
    "    test_size=0.3,\n",
    "    random_state=42\n",
    ")\n",
    "\n",
    "print(\"\\nDivision creada:\")\n",
    "print(f\"Train shapes - X: {X_train.shape}, y: {y_train.shape}\")\n",
    "print(f\"Test shapes - X: {X_test.shape}, y: {y_test.shape}\")"
   ]
  },
  {
   "cell_type": "markdown",
   "metadata": {},
   "source": [
    "## **[33]** Entrene el modelo de predicción mediante Regresión Logística"
   ]
  },
  {
   "cell_type": "code",
   "execution_count": 421,
   "metadata": {
    "tags": []
   },
   "outputs": [
    {
     "name": "stdout",
     "output_type": "stream",
     "text": [
      "\n",
      "Variables estandarizadas:\n",
      "['carat', 'depth', 'table', 'x', 'y', 'z']\n"
     ]
    }
   ],
   "source": [
    "from sklearn.preprocessing import StandardScaler\n",
    "\n",
    "# Estandarizar solo las variables numéricas (excluyendo las codificadas)\n",
    "numeric_cols = X.select_dtypes(include=['int64', 'float64']).columns\n",
    "scaler = StandardScaler()\n",
    "\n",
    "X_train[numeric_cols] = scaler.fit_transform(X_train[numeric_cols])\n",
    "X_test[numeric_cols] = scaler.transform(X_test[numeric_cols])\n",
    "\n",
    "print(\"\\nVariables estandarizadas:\")\n",
    "print(numeric_cols.tolist())"
   ]
  },
  {
   "cell_type": "code",
   "execution_count": 422,
   "metadata": {},
   "outputs": [
    {
     "name": "stderr",
     "output_type": "stream",
     "text": [
      "c:\\Users\\steph\\anaconda3\\Lib\\site-packages\\sklearn\\linear_model\\_logistic.py:458: ConvergenceWarning: lbfgs failed to converge (status=1):\n",
      "STOP: TOTAL NO. of ITERATIONS REACHED LIMIT.\n",
      "\n",
      "Increase the number of iterations (max_iter) or scale the data as shown in:\n",
      "    https://scikit-learn.org/stable/modules/preprocessing.html\n",
      "Please also refer to the documentation for alternative solver options:\n",
      "    https://scikit-learn.org/stable/modules/linear_model.html#logistic-regression\n",
      "  n_iter_i = _check_optimize_result(\n"
     ]
    },
    {
     "data": {
      "text/html": [
       "<style>#sk-container-id-24 {color: black;background-color: white;}#sk-container-id-24 pre{padding: 0;}#sk-container-id-24 div.sk-toggleable {background-color: white;}#sk-container-id-24 label.sk-toggleable__label {cursor: pointer;display: block;width: 100%;margin-bottom: 0;padding: 0.3em;box-sizing: border-box;text-align: center;}#sk-container-id-24 label.sk-toggleable__label-arrow:before {content: \"▸\";float: left;margin-right: 0.25em;color: #696969;}#sk-container-id-24 label.sk-toggleable__label-arrow:hover:before {color: black;}#sk-container-id-24 div.sk-estimator:hover label.sk-toggleable__label-arrow:before {color: black;}#sk-container-id-24 div.sk-toggleable__content {max-height: 0;max-width: 0;overflow: hidden;text-align: left;background-color: #f0f8ff;}#sk-container-id-24 div.sk-toggleable__content pre {margin: 0.2em;color: black;border-radius: 0.25em;background-color: #f0f8ff;}#sk-container-id-24 input.sk-toggleable__control:checked~div.sk-toggleable__content {max-height: 200px;max-width: 100%;overflow: auto;}#sk-container-id-24 input.sk-toggleable__control:checked~label.sk-toggleable__label-arrow:before {content: \"▾\";}#sk-container-id-24 div.sk-estimator input.sk-toggleable__control:checked~label.sk-toggleable__label {background-color: #d4ebff;}#sk-container-id-24 div.sk-label input.sk-toggleable__control:checked~label.sk-toggleable__label {background-color: #d4ebff;}#sk-container-id-24 input.sk-hidden--visually {border: 0;clip: rect(1px 1px 1px 1px);clip: rect(1px, 1px, 1px, 1px);height: 1px;margin: -1px;overflow: hidden;padding: 0;position: absolute;width: 1px;}#sk-container-id-24 div.sk-estimator {font-family: monospace;background-color: #f0f8ff;border: 1px dotted black;border-radius: 0.25em;box-sizing: border-box;margin-bottom: 0.5em;}#sk-container-id-24 div.sk-estimator:hover {background-color: #d4ebff;}#sk-container-id-24 div.sk-parallel-item::after {content: \"\";width: 100%;border-bottom: 1px solid gray;flex-grow: 1;}#sk-container-id-24 div.sk-label:hover label.sk-toggleable__label {background-color: #d4ebff;}#sk-container-id-24 div.sk-serial::before {content: \"\";position: absolute;border-left: 1px solid gray;box-sizing: border-box;top: 0;bottom: 0;left: 50%;z-index: 0;}#sk-container-id-24 div.sk-serial {display: flex;flex-direction: column;align-items: center;background-color: white;padding-right: 0.2em;padding-left: 0.2em;position: relative;}#sk-container-id-24 div.sk-item {position: relative;z-index: 1;}#sk-container-id-24 div.sk-parallel {display: flex;align-items: stretch;justify-content: center;background-color: white;position: relative;}#sk-container-id-24 div.sk-item::before, #sk-container-id-24 div.sk-parallel-item::before {content: \"\";position: absolute;border-left: 1px solid gray;box-sizing: border-box;top: 0;bottom: 0;left: 50%;z-index: -1;}#sk-container-id-24 div.sk-parallel-item {display: flex;flex-direction: column;z-index: 1;position: relative;background-color: white;}#sk-container-id-24 div.sk-parallel-item:first-child::after {align-self: flex-end;width: 50%;}#sk-container-id-24 div.sk-parallel-item:last-child::after {align-self: flex-start;width: 50%;}#sk-container-id-24 div.sk-parallel-item:only-child::after {width: 0;}#sk-container-id-24 div.sk-dashed-wrapped {border: 1px dashed gray;margin: 0 0.4em 0.5em 0.4em;box-sizing: border-box;padding-bottom: 0.4em;background-color: white;}#sk-container-id-24 div.sk-label label {font-family: monospace;font-weight: bold;display: inline-block;line-height: 1.2em;}#sk-container-id-24 div.sk-label-container {text-align: center;}#sk-container-id-24 div.sk-container {/* jupyter's `normalize.less` sets `[hidden] { display: none; }` but bootstrap.min.css set `[hidden] { display: none !important; }` so we also need the `!important` here to be able to override the default hidden behavior on the sphinx rendered scikit-learn.org. See: https://github.com/scikit-learn/scikit-learn/issues/21755 */display: inline-block !important;position: relative;}#sk-container-id-24 div.sk-text-repr-fallback {display: none;}</style><div id=\"sk-container-id-24\" class=\"sk-top-container\"><div class=\"sk-text-repr-fallback\"><pre>LogisticRegression(class_weight=&#x27;balanced&#x27;, max_iter=1, random_state=42)</pre><b>In a Jupyter environment, please rerun this cell to show the HTML representation or trust the notebook. <br />On GitHub, the HTML representation is unable to render, please try loading this page with nbviewer.org.</b></div><div class=\"sk-container\" hidden><div class=\"sk-item\"><div class=\"sk-estimator sk-toggleable\"><input class=\"sk-toggleable__control sk-hidden--visually\" id=\"sk-estimator-id-34\" type=\"checkbox\" checked><label for=\"sk-estimator-id-34\" class=\"sk-toggleable__label sk-toggleable__label-arrow\">LogisticRegression</label><div class=\"sk-toggleable__content\"><pre>LogisticRegression(class_weight=&#x27;balanced&#x27;, max_iter=1, random_state=42)</pre></div></div></div></div></div>"
      ],
      "text/plain": [
       "LogisticRegression(class_weight='balanced', max_iter=1, random_state=42)"
      ]
     },
     "execution_count": 422,
     "metadata": {},
     "output_type": "execute_result"
    }
   ],
   "source": [
    "from sklearn.linear_model import LogisticRegression\n",
    "\n",
    "# Crear y entrenar el modelo\n",
    "logreg = LogisticRegression(\n",
    "    max_iter=1,  # Aumentar iteraciones para garantizar convergencia\n",
    "    random_state=42,\n",
    "    class_weight='balanced'  # Manejo de clases desbalanceadas (si existen)\n",
    ")\n",
    "\n",
    "logreg.fit(X_train, y_train)"
   ]
  },
  {
   "cell_type": "code",
   "execution_count": null,
   "metadata": {},
   "outputs": [],
   "source": []
  },
  {
   "cell_type": "markdown",
   "metadata": {},
   "source": [
    "## **[34]** Calcule el *score* de su modelo"
   ]
  },
  {
   "cell_type": "code",
   "execution_count": null,
   "metadata": {
    "tags": []
   },
   "outputs": [],
   "source": []
  },
  {
   "cell_type": "markdown",
   "metadata": {},
   "source": [
    "## **[35]** Genere la matriz de confusión de los datos de test "
   ]
  },
  {
   "cell_type": "code",
   "execution_count": null,
   "metadata": {
    "tags": []
   },
   "outputs": [],
   "source": []
  },
  {
   "cell_type": "markdown",
   "metadata": {},
   "source": [
    "<div class=\"alert alert-info\", role=\"success\">\n",
    "    <h1 style=\"font-size: 2em;\">Utilizando el dataset Cancer de Seno entrene un modelo mediante Regresión Logística que permita diagnosticar la enfermedad basada en datos de entrada\n",
    " </h1>\n",
    "</div>\n"
   ]
  },
  {
   "cell_type": "markdown",
   "metadata": {},
   "source": [
    "## **[36]** Cargue el dataset y elimine los NaNs de ser necesario"
   ]
  },
  {
   "cell_type": "code",
   "execution_count": null,
   "metadata": {
    "tags": []
   },
   "outputs": [],
   "source": []
  },
  {
   "cell_type": "markdown",
   "metadata": {},
   "source": [
    "## **[37]** Genere el las secuencias X & Y para entrenar el modelo"
   ]
  },
  {
   "cell_type": "code",
   "execution_count": null,
   "metadata": {
    "tags": []
   },
   "outputs": [],
   "source": []
  },
  {
   "cell_type": "markdown",
   "metadata": {},
   "source": [
    "## **[38]** Divida el dataset en conjunto de Train y Test"
   ]
  },
  {
   "cell_type": "code",
   "execution_count": null,
   "metadata": {
    "tags": []
   },
   "outputs": [],
   "source": []
  },
  {
   "cell_type": "markdown",
   "metadata": {},
   "source": [
    "## **[39]** Entrene el modelo de predicción mediante Regresión Logística"
   ]
  },
  {
   "cell_type": "code",
   "execution_count": null,
   "metadata": {
    "tags": []
   },
   "outputs": [],
   "source": []
  },
  {
   "cell_type": "markdown",
   "metadata": {},
   "source": [
    "## **[40]** Calcule el *score* de su modelo"
   ]
  },
  {
   "cell_type": "code",
   "execution_count": null,
   "metadata": {
    "tags": []
   },
   "outputs": [],
   "source": []
  },
  {
   "cell_type": "markdown",
   "metadata": {},
   "source": [
    "## **[41]** Genere la matriz de confusión de los datos de test "
   ]
  },
  {
   "cell_type": "code",
   "execution_count": null,
   "metadata": {
    "tags": []
   },
   "outputs": [],
   "source": []
  },
  {
   "cell_type": "markdown",
   "metadata": {},
   "source": [
    "<div class=\"alert alert-success\", role=\"alert\">\n",
    "    <h1 style=\"font-size: 1.5em;\">Parte 3 </h1>\n",
    "    <h2 style=\"font-size: 1.5em; \"><strong>Random Forest Utilizando SKLearn y Dataset Iris</strong></h2>\n",
    "</div>\n",
    "\n",
    "\n",
    "Random Forest es un clasificador basado en el ensamble de varios Árboles de Decisión. Se utiliza tanto para clasificación *RandomForestClassifier* o también en enfoques de regresión *RandomForestRegressor* para variables continuas. El ejemplo utiliza el dataset Iris para clasificar la especie o tipo de flor que se desea identificar basada en 4 variables."
   ]
  },
  {
   "cell_type": "code",
   "execution_count": 423,
   "metadata": {},
   "outputs": [],
   "source": [
    "from sklearn.ensemble import RandomForestClassifier\n",
    "from sklearn.datasets import load_iris"
   ]
  },
  {
   "cell_type": "markdown",
   "metadata": {},
   "source": [
    "## Secuencias X & Y para entrenar el modelo"
   ]
  },
  {
   "cell_type": "code",
   "execution_count": 424,
   "metadata": {},
   "outputs": [],
   "source": [
    "data = load_iris(as_frame=True)\n",
    "feature_names = data.data.columns\n",
    "X, y = data.data, data.target"
   ]
  },
  {
   "cell_type": "markdown",
   "metadata": {},
   "source": [
    "## Entenamiento y prueba del modelo"
   ]
  },
  {
   "cell_type": "code",
   "execution_count": 425,
   "metadata": {},
   "outputs": [
    {
     "data": {
      "text/html": [
       "<style>#sk-container-id-25 {color: black;background-color: white;}#sk-container-id-25 pre{padding: 0;}#sk-container-id-25 div.sk-toggleable {background-color: white;}#sk-container-id-25 label.sk-toggleable__label {cursor: pointer;display: block;width: 100%;margin-bottom: 0;padding: 0.3em;box-sizing: border-box;text-align: center;}#sk-container-id-25 label.sk-toggleable__label-arrow:before {content: \"▸\";float: left;margin-right: 0.25em;color: #696969;}#sk-container-id-25 label.sk-toggleable__label-arrow:hover:before {color: black;}#sk-container-id-25 div.sk-estimator:hover label.sk-toggleable__label-arrow:before {color: black;}#sk-container-id-25 div.sk-toggleable__content {max-height: 0;max-width: 0;overflow: hidden;text-align: left;background-color: #f0f8ff;}#sk-container-id-25 div.sk-toggleable__content pre {margin: 0.2em;color: black;border-radius: 0.25em;background-color: #f0f8ff;}#sk-container-id-25 input.sk-toggleable__control:checked~div.sk-toggleable__content {max-height: 200px;max-width: 100%;overflow: auto;}#sk-container-id-25 input.sk-toggleable__control:checked~label.sk-toggleable__label-arrow:before {content: \"▾\";}#sk-container-id-25 div.sk-estimator input.sk-toggleable__control:checked~label.sk-toggleable__label {background-color: #d4ebff;}#sk-container-id-25 div.sk-label input.sk-toggleable__control:checked~label.sk-toggleable__label {background-color: #d4ebff;}#sk-container-id-25 input.sk-hidden--visually {border: 0;clip: rect(1px 1px 1px 1px);clip: rect(1px, 1px, 1px, 1px);height: 1px;margin: -1px;overflow: hidden;padding: 0;position: absolute;width: 1px;}#sk-container-id-25 div.sk-estimator {font-family: monospace;background-color: #f0f8ff;border: 1px dotted black;border-radius: 0.25em;box-sizing: border-box;margin-bottom: 0.5em;}#sk-container-id-25 div.sk-estimator:hover {background-color: #d4ebff;}#sk-container-id-25 div.sk-parallel-item::after {content: \"\";width: 100%;border-bottom: 1px solid gray;flex-grow: 1;}#sk-container-id-25 div.sk-label:hover label.sk-toggleable__label {background-color: #d4ebff;}#sk-container-id-25 div.sk-serial::before {content: \"\";position: absolute;border-left: 1px solid gray;box-sizing: border-box;top: 0;bottom: 0;left: 50%;z-index: 0;}#sk-container-id-25 div.sk-serial {display: flex;flex-direction: column;align-items: center;background-color: white;padding-right: 0.2em;padding-left: 0.2em;position: relative;}#sk-container-id-25 div.sk-item {position: relative;z-index: 1;}#sk-container-id-25 div.sk-parallel {display: flex;align-items: stretch;justify-content: center;background-color: white;position: relative;}#sk-container-id-25 div.sk-item::before, #sk-container-id-25 div.sk-parallel-item::before {content: \"\";position: absolute;border-left: 1px solid gray;box-sizing: border-box;top: 0;bottom: 0;left: 50%;z-index: -1;}#sk-container-id-25 div.sk-parallel-item {display: flex;flex-direction: column;z-index: 1;position: relative;background-color: white;}#sk-container-id-25 div.sk-parallel-item:first-child::after {align-self: flex-end;width: 50%;}#sk-container-id-25 div.sk-parallel-item:last-child::after {align-self: flex-start;width: 50%;}#sk-container-id-25 div.sk-parallel-item:only-child::after {width: 0;}#sk-container-id-25 div.sk-dashed-wrapped {border: 1px dashed gray;margin: 0 0.4em 0.5em 0.4em;box-sizing: border-box;padding-bottom: 0.4em;background-color: white;}#sk-container-id-25 div.sk-label label {font-family: monospace;font-weight: bold;display: inline-block;line-height: 1.2em;}#sk-container-id-25 div.sk-label-container {text-align: center;}#sk-container-id-25 div.sk-container {/* jupyter's `normalize.less` sets `[hidden] { display: none; }` but bootstrap.min.css set `[hidden] { display: none !important; }` so we also need the `!important` here to be able to override the default hidden behavior on the sphinx rendered scikit-learn.org. See: https://github.com/scikit-learn/scikit-learn/issues/21755 */display: inline-block !important;position: relative;}#sk-container-id-25 div.sk-text-repr-fallback {display: none;}</style><div id=\"sk-container-id-25\" class=\"sk-top-container\"><div class=\"sk-text-repr-fallback\"><pre>RandomForestClassifier(n_jobs=2, random_state=0)</pre><b>In a Jupyter environment, please rerun this cell to show the HTML representation or trust the notebook. <br />On GitHub, the HTML representation is unable to render, please try loading this page with nbviewer.org.</b></div><div class=\"sk-container\" hidden><div class=\"sk-item\"><div class=\"sk-estimator sk-toggleable\"><input class=\"sk-toggleable__control sk-hidden--visually\" id=\"sk-estimator-id-35\" type=\"checkbox\" checked><label for=\"sk-estimator-id-35\" class=\"sk-toggleable__label sk-toggleable__label-arrow\">RandomForestClassifier</label><div class=\"sk-toggleable__content\"><pre>RandomForestClassifier(n_jobs=2, random_state=0)</pre></div></div></div></div></div>"
      ],
      "text/plain": [
       "RandomForestClassifier(n_jobs=2, random_state=0)"
      ]
     },
     "execution_count": 425,
     "metadata": {},
     "output_type": "execute_result"
    }
   ],
   "source": [
    "#Definición del Modelo \n",
    "clf = RandomForestClassifier(n_jobs=2, random_state=0)\n",
    "#fit/train -> Se hace el entrenamiendo del modelo\n",
    "clf.fit(X,y)"
   ]
  },
  {
   "cell_type": "code",
   "execution_count": 426,
   "metadata": {},
   "outputs": [],
   "source": [
    "#Creando un item con los atributos al azar para probar el modelo\n",
    "vals = [[2, 2, 4, 2]]\n",
    "X_pred = pd.DataFrame(vals, columns=feature_names) \n",
    "#Utilizar el modelo para predecir una especie para nuestra instancia\n",
    "output = clf.predict(X_pred) "
   ]
  },
  {
   "cell_type": "code",
   "execution_count": 427,
   "metadata": {},
   "outputs": [
    {
     "data": {
      "text/plain": [
       "array([2])"
      ]
     },
     "execution_count": 427,
     "metadata": {},
     "output_type": "execute_result"
    }
   ],
   "source": [
    "output"
   ]
  },
  {
   "cell_type": "markdown",
   "metadata": {},
   "source": [
    "## El modelo puede también calcular la probabilidad de cada categoría utilizando la función *predict_proba*"
   ]
  },
  {
   "cell_type": "code",
   "execution_count": 428,
   "metadata": {},
   "outputs": [
    {
     "name": "stdout",
     "output_type": "stream",
     "text": [
      "Predicción: ['virginica']\n",
      "Opciones: ['setosa' 'versicolor' 'virginica']\n",
      "Probabilidades: [[0.   0.31 0.69]]\n"
     ]
    }
   ],
   "source": [
    "print ('Predicción:', data.target_names[output])\n",
    "print ('Opciones:', data.target_names)\n",
    "print ('Probabilidades:', clf.predict_proba(X_pred))"
   ]
  },
  {
   "cell_type": "markdown",
   "metadata": {},
   "source": [
    "## Utilizar las features_importances_ calculadas por RandomForest"
   ]
  },
  {
   "cell_type": "code",
   "execution_count": 429,
   "metadata": {},
   "outputs": [
    {
     "data": {
      "image/png": "[encoded data removed]",
      "text/plain": [
       "<Figure size 1000x600 with 1 Axes>"
      ]
     },
     "metadata": {},
     "output_type": "display_data"
    },
    {
     "name": "stdout",
     "output_type": "stream",
     "text": [
      "             feature  importance\n",
      "2  petal length (cm)    0.460445\n",
      "3   petal width (cm)    0.424116\n",
      "0  sepal length (cm)    0.090908\n",
      "1   sepal width (cm)    0.024531\n"
     ]
    }
   ],
   "source": [
    "# Obtener las importancias de las características\n",
    "importances = clf.feature_importances_\n",
    "\n",
    "# Crear un DataFrame para facilitar la visualización\n",
    "feature_importance_df = pd.DataFrame({\n",
    "    'feature': feature_names,\n",
    "    'importance': importances\n",
    "})\n",
    "\n",
    "# Ordenar las características por importancia de mayor a menor\n",
    "feature_importance_df = feature_importance_df.sort_values(by='importance', ascending=False)\n",
    "\n",
    "# Crear el gráfico de barras\n",
    "plt.figure(figsize=(10, 6))\n",
    "plt.barh(feature_importance_df['feature'], feature_importance_df['importance'], color='skyblue')\n",
    "plt.xlabel('Importancia')\n",
    "plt.ylabel('Característica')\n",
    "plt.title('Importancia de las Características (Random Forest)')\n",
    "plt.gca().invert_yaxis() # Invertir el eje y para que la característica más importante esté arriba\n",
    "plt.show()\n",
    "\n",
    "# Imprimir el DataFrame ordenado\n",
    "print(feature_importance_df)\n"
   ]
  },
  {
   "cell_type": "markdown",
   "metadata": {},
   "source": [
    "<div class=\"alert alert-info\", role=\"success\">\n",
    "    <h1 style=\"font-size: 2em;\">Entrene un clasificador de la isla de los pinguinos usando todas las columnas del dataset a excepción del años.</h1>\n",
    "</div>"
   ]
  },
  {
   "cell_type": "markdown",
   "metadata": {},
   "source": [
    "## **[42]** Cargue el dataset y elimine los NaNs de ser necesario"
   ]
  },
  {
   "cell_type": "code",
   "execution_count": null,
   "metadata": {
    "tags": []
   },
   "outputs": [],
   "source": []
  },
  {
   "cell_type": "markdown",
   "metadata": {},
   "source": [
    "## **[43]** Genere el las secuencias X & Y para entrenar el modelo"
   ]
  },
  {
   "cell_type": "code",
   "execution_count": null,
   "metadata": {
    "tags": []
   },
   "outputs": [],
   "source": []
  },
  {
   "cell_type": "markdown",
   "metadata": {},
   "source": [
    "## **[44]** Aplique el LabelEncoder"
   ]
  },
  {
   "cell_type": "code",
   "execution_count": null,
   "metadata": {
    "tags": []
   },
   "outputs": [],
   "source": []
  },
  {
   "cell_type": "markdown",
   "metadata": {},
   "source": [
    "## **[45]** Divida el dataset en conjunto de Train y Test"
   ]
  },
  {
   "cell_type": "code",
   "execution_count": null,
   "metadata": {
    "tags": []
   },
   "outputs": [],
   "source": []
  },
  {
   "cell_type": "markdown",
   "metadata": {},
   "source": [
    "## **[46]** Entrene el modelo de predicción mediante Random Forest"
   ]
  },
  {
   "cell_type": "code",
   "execution_count": null,
   "metadata": {
    "tags": []
   },
   "outputs": [],
   "source": []
  },
  {
   "cell_type": "markdown",
   "metadata": {},
   "source": [
    "## **[47]** Calcule el *score* de su modelo"
   ]
  },
  {
   "cell_type": "code",
   "execution_count": null,
   "metadata": {
    "tags": []
   },
   "outputs": [],
   "source": []
  },
  {
   "cell_type": "markdown",
   "metadata": {},
   "source": [
    "## **[48]** Genere la matriz de confusión de los datos de test "
   ]
  },
  {
   "cell_type": "code",
   "execution_count": null,
   "metadata": {
    "tags": []
   },
   "outputs": [],
   "source": []
  },
  {
   "cell_type": "markdown",
   "metadata": {},
   "source": [
    "supported values for cmap are 'Accent', 'Accent_r', 'Blues', 'Blues_r', 'BrBG', 'BrBG_r', 'BuGn', 'BuGn_r', 'BuPu', 'BuPu_r', 'CMRmap', 'CMRmap_r', 'Dark2', 'Dark2_r', 'GnBu', 'GnBu_r', 'Greens', 'Greens_r', 'Greys', 'Greys_r', 'OrRd', 'OrRd_r', 'Oranges', 'Oranges_r', 'PRGn', 'PRGn_r', 'Paired', 'Paired_r', 'Pastel1', 'Pastel1_r', 'Pastel2', 'Pastel2_r', 'PiYG', 'PiYG_r', 'PuBu', 'PuBuGn', 'PuBuGn_r', 'PuBu_r', 'PuOr', 'PuOr_r', 'PuRd', 'PuRd_r', 'Purples', 'Purples_r', 'RdBu', 'RdBu_r', 'RdGy', 'RdGy_r', 'RdPu', 'RdPu_r', 'RdYlBu', 'RdYlBu_r', 'RdYlGn', 'RdYlGn_r', 'Reds', 'Reds_r', 'Set1', 'Set1_r', 'Set2', 'Set2_r', 'Set3', 'Set3_r', 'Spectral', 'Spectral_r', 'Wistia', 'Wistia_r', 'YlGn', 'YlGnBu', 'YlGnBu_r', 'YlGn_r', 'YlOrBr', 'YlOrBr_r', 'YlOrRd', 'YlOrRd_r', 'afmhot', 'afmhot_r', 'autumn', 'autumn_r', 'binary', 'binary_r', 'bone', 'bone_r', 'brg', 'brg_r', 'bwr', 'bwr_r', 'cividis', 'cividis_r', 'cool', 'cool_r', 'coolwarm', 'coolwarm_r', 'copper', 'copper_r', 'crest', 'crest_r', 'cubehelix', 'cubehelix_r', 'flag', 'flag_r', 'flare', 'flare_r', 'gist_earth', 'gist_earth_r', 'gist_gray', 'gist_gray_r', 'gist_heat', 'gist_heat_r', 'gist_ncar', 'gist_ncar_r', 'gist_rainbow', 'gist_rainbow_r', 'gist_stern', 'gist_stern_r', 'gist_yarg', 'gist_yarg_r', 'gnuplot', 'gnuplot2', 'gnuplot2_r', 'gnuplot_r', 'gray', 'gray_r', 'hot', 'hot_r', 'hsv', 'hsv_r', 'icefire', 'icefire_r', 'inferno', 'inferno_r', 'jet', 'jet_r', 'magma', 'magma_r', 'mako', 'mako_r', 'nipy_spectral', 'nipy_spectral_r', 'ocean', 'ocean_r', 'pink', 'pink_r', 'plasma', 'plasma_r', 'prism', 'prism_r', 'rainbow', 'rainbow_r', 'rocket', 'rocket_r', 'seismic', 'seismic_r', 'spring', 'spring_r', 'summer', 'summer_r', 'tab10', 'tab10_r', 'tab20', 'tab20_r', 'tab20b', 'tab20b_r', 'tab20c', 'tab20c_r', 'terrain', 'terrain_r', 'turbo', 'turbo_r', 'twilight', 'twilight_r', 'twilight_shifted', 'twilight_shifted_r', 'viridis', 'viridis_r', 'vlag', 'vlag_r', 'winter', 'winter_r'"
   ]
  },
  {
   "cell_type": "markdown",
   "metadata": {},
   "source": [
    "<div class=\"alert alert-info\", role=\"success\">\n",
    "    <h1 style=\"font-size: 2em;\">Utilizando el dataset Cáncer de Seno entrene un modelo mediante Random Forest que permita diagnosticar la enfermedad basada en datos de entrada </h1>\n",
    "</div>\n"
   ]
  },
  {
   "cell_type": "markdown",
   "metadata": {},
   "source": [
    "## **[49]** Cargue el dataset y elimine los NaNs de ser necesario"
   ]
  },
  {
   "cell_type": "code",
   "execution_count": null,
   "metadata": {
    "tags": []
   },
   "outputs": [],
   "source": []
  },
  {
   "cell_type": "markdown",
   "metadata": {},
   "source": [
    "## **[50]** Genere el las secuencias X & Y para entrenar el modelo"
   ]
  },
  {
   "cell_type": "code",
   "execution_count": null,
   "metadata": {
    "tags": []
   },
   "outputs": [],
   "source": []
  },
  {
   "cell_type": "markdown",
   "metadata": {},
   "source": [
    "## **[51]** Divida el dataset en conjunto de Train y Test"
   ]
  },
  {
   "cell_type": "code",
   "execution_count": null,
   "metadata": {
    "tags": []
   },
   "outputs": [],
   "source": []
  },
  {
   "cell_type": "markdown",
   "metadata": {},
   "source": [
    "## **[52]** Entrene el modelo de predicción mediante Random Forest"
   ]
  },
  {
   "cell_type": "code",
   "execution_count": null,
   "metadata": {
    "tags": []
   },
   "outputs": [],
   "source": []
  },
  {
   "cell_type": "markdown",
   "metadata": {},
   "source": [
    "## **[53]** Calcule el *score* de su modelo"
   ]
  },
  {
   "cell_type": "code",
   "execution_count": null,
   "metadata": {
    "tags": []
   },
   "outputs": [],
   "source": []
  },
  {
   "cell_type": "markdown",
   "metadata": {},
   "source": [
    "## **[54]** Genere la matriz de confusión de los datos de test "
   ]
  },
  {
   "cell_type": "code",
   "execution_count": null,
   "metadata": {
    "tags": []
   },
   "outputs": [],
   "source": []
  },
  {
   "cell_type": "markdown",
   "metadata": {},
   "source": [
    "<div class=\"alert alert-info\", role=\"success\">\n",
    "    <h1 style=\"font-size: 2em;\"> Utilizando Random Forest Regresor realice la predicción  del precio de los diamantes usando todas las columnas del dataset\n",
    " </h1>\n",
    "</div>\n"
   ]
  },
  {
   "cell_type": "markdown",
   "metadata": {},
   "source": [
    "## **[55]** Cargue el dataset y elimine los NaNs de ser necesario"
   ]
  },
  {
   "cell_type": "code",
   "execution_count": null,
   "metadata": {
    "tags": []
   },
   "outputs": [],
   "source": []
  },
  {
   "cell_type": "markdown",
   "metadata": {},
   "source": [
    "## **[56]** Genere el las secuencias X & Y para entrenar el modelo"
   ]
  },
  {
   "cell_type": "code",
   "execution_count": null,
   "metadata": {
    "tags": []
   },
   "outputs": [],
   "source": []
  },
  {
   "cell_type": "markdown",
   "metadata": {},
   "source": [
    "## **[57]** Aplique el LabelEncoder"
   ]
  },
  {
   "cell_type": "code",
   "execution_count": null,
   "metadata": {
    "tags": []
   },
   "outputs": [],
   "source": []
  },
  {
   "cell_type": "markdown",
   "metadata": {},
   "source": [
    "## **[58]** Divida el dataset en conjunto de Train y Test"
   ]
  },
  {
   "cell_type": "code",
   "execution_count": null,
   "metadata": {
    "tags": []
   },
   "outputs": [],
   "source": []
  },
  {
   "cell_type": "markdown",
   "metadata": {},
   "source": [
    "## **[59]** Entrene el modelo de Regresión mediante **RandomForestRegressor**"
   ]
  },
  {
   "cell_type": "code",
   "execution_count": null,
   "metadata": {
    "tags": []
   },
   "outputs": [],
   "source": []
  },
  {
   "cell_type": "markdown",
   "metadata": {},
   "source": [
    "## **[60]** Calcule el *score* de su modelo"
   ]
  },
  {
   "cell_type": "code",
   "execution_count": null,
   "metadata": {
    "tags": []
   },
   "outputs": [],
   "source": []
  },
  {
   "cell_type": "markdown",
   "metadata": {},
   "source": [
    "## **[61]** Grafique la Importancia de las Features de este dataset"
   ]
  },
  {
   "cell_type": "code",
   "execution_count": null,
   "metadata": {},
   "outputs": [],
   "source": []
  },
  {
   "cell_type": "markdown",
   "metadata": {},
   "source": [
    "## **[62]** Genere un dataframe donde almacene el valor real del conjunto **X** y la predicción para estos valores **X**. \n",
    "**Obs.** Utilice para la predicción el conjunto **X** de valores antes de ser dividido en train/test"
   ]
  },
  {
   "cell_type": "code",
   "execution_count": null,
   "metadata": {
    "tags": []
   },
   "outputs": [],
   "source": []
  },
  {
   "cell_type": "markdown",
   "metadata": {},
   "source": [
    "## **[63]** Presente el *boxplot* para este dataset"
   ]
  },
  {
   "cell_type": "code",
   "execution_count": null,
   "metadata": {
    "tags": []
   },
   "outputs": [],
   "source": []
  },
  {
   "cell_type": "markdown",
   "metadata": {},
   "source": [
    "## **[64]** Genere un *lineplot* del dataframe anterior donde compare las predicciones con el valor real. \n",
    "## Presente en este gráfico solo las primeras 500 instancias del conjunto. (```iloc[0:500]```) "
   ]
  },
  {
   "cell_type": "code",
   "execution_count": null,
   "metadata": {
    "tags": []
   },
   "outputs": [],
   "source": []
  },
  {
   "cell_type": "markdown",
   "metadata": {},
   "source": [
    "## **[65]** Conclusiones "
   ]
  },
  {
   "cell_type": "code",
   "execution_count": null,
   "metadata": {},
   "outputs": [],
   "source": []
  }
 ],
 "metadata": {
  "kernelspec": {
   "display_name": "base",
   "language": "python",
   "name": "python3"
  },
  "language_info": {
   "codemirror_mode": {
    "name": "ipython",
    "version": 3
   },
   "file_extension": ".py",
   "mimetype": "text/x-python",
   "name": "python",
   "nbconvert_exporter": "python",
   "pygments_lexer": "ipython3",
   "version": "3.11.7"
  },
  "toc-showmarkdowntxt": false
 },
 "nbformat": 4,
 "nbformat_minor": 4
}
